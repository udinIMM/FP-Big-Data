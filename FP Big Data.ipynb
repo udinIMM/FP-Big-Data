{
 "cells": [
  {
   "cell_type": "code",
   "execution_count": 1,
   "metadata": {},
   "outputs": [],
   "source": [
    "# Import findspark to make pyspark importable as a regular library\n",
    "import findspark\n",
    "findspark.init('/usr/local/spark')"
   ]
  },
  {
   "cell_type": "code",
   "execution_count": 2,
   "metadata": {},
   "outputs": [],
   "source": [
    "# Import required python library\n",
    "from pyspark.sql import SparkSession\n",
    "from pyspark import SparkContext, SparkConf\n",
    "\n",
    "# Create Spark Session\n",
    "# The entry point to programming Spark with the Dataset \n",
    "spark = SparkSession.builder.appName(\"ACLED Middle East and South East Asia Clustering\").getOrCreate()"
   ]
  },
  {
   "cell_type": "code",
   "execution_count": 3,
   "metadata": {},
   "outputs": [
    {
     "name": "stdout",
     "output_type": "stream",
     "text": [
      "<pyspark.sql.session.SparkSession object at 0x7f1ba5aaa690>\n"
     ]
    }
   ],
   "source": [
    "# Print spark object ID\n",
    "print(spark)"
   ]
  },
  {
   "cell_type": "code",
   "execution_count": 4,
   "metadata": {},
   "outputs": [],
   "source": [
    "# Load the dataset\n",
    "df = spark.read.csv(\"/root/Lecture/BIGDATA/datasets/asia_conflicts.csv\", header=True, inferSchema=True)"
   ]
  },
  {
   "cell_type": "code",
   "execution_count": 5,
   "metadata": {},
   "outputs": [
    {
     "name": "stdout",
     "output_type": "stream",
     "text": [
      "+-------+---+-------------+----------------+------------+----+--------------+--------------------+--------------------+--------------------+------+--------------------+--------------------+------+-----------+-------------+----------+-----------------+-----------------+------------------+------------------+--------+---------+-------------+--------------------+------------+--------------------+--------------------+----------+----------+\n",
      "|data_id|iso|event_id_cnty|event_id_no_cnty|  event_date|year|time_precision|          event_type|              actor1|       assoc_actor_1|inter1|              actor2|       assoc_actor_2|inter2|interaction|       region|   country|           admin1|           admin2|            admin3|          location|latitude|longitude|geo_precision|              source|source_scale|               notes|          fatalities| timestamp|      iso3|\n",
      "+-------+---+-------------+----------------+------------+----+--------------+--------------------+--------------------+--------------------+------+--------------------+--------------------+------+-----------+-------------+----------+-----------------+-----------------+------------------+------------------+--------+---------+-------------+--------------------+------------+--------------------+--------------------+----------+----------+\n",
      "|1732988| 50|      BNG6787|            6787|28 July 2018|2018|             1|      Riots/Protests|Protesters (Bangl...|Labour Group (Ban...|     6|                null|                null|     0|         60|Southern Asia|Bangladesh|       Chittagong|       Chittagong|        Chittagong|        Chittagong| 22.3571|  91.7823|            1|The Daily Star (B...|    National|On July 28, in Fa...|                   0|1532986405|       BGD|\n",
      "|1733345|356|     IND33731|           33731|28 July 2018|2018|             1|Violence against ...|CPI (Maoist): Com...|                null|     2|   Civilians (India)|                null|     7|         27|Southern Asia|     India|   Andhra Pradesh|    Visakhapatnam|     Visakhapatnam|Gudem Kotha Veedhi| 17.8635|  82.1959|            1|     Hindustan Times|    National|\"On July 28, a \"\"...| in the Chukka Go...|         1|1532986405|\n",
      "|1733346|356|     IND33732|           33732|28 July 2018|2018|             1|Violence against ...|CPI (Maoist): Com...|                null|     2|   Civilians (India)|Unidentified Comm...|     7|         27|Southern Asia|     India|   Andhra Pradesh|    Visakhapatnam|Gudem Kotha Veedhi|Gudem Kotha Veedhi| 17.8619|   82.197|            1|     Hindustan Times|    National|On July 28, in th...|                   1|1532986405|       IND|\n",
      "|1733347|356|     IND33733|           33733|28 July 2018|2018|             2|      Riots/Protests|  Protesters (India)|ABVP: Akhil Bhara...|     6|                null|                null|     0|         60|Southern Asia|     India|       Chandigarh|       Chandigarh|        Chandigarh|        Chandigarh| 30.7362|  76.7884|            1|     Hindustan Times|    National|Published on July...|                   0|1532986405|       IND|\n",
      "|1733348|356|     IND33734|           33734|28 July 2018|2018|             1|Battle-No change ...|Military Forces o...|Police Forces of ...|     1|Military Forces o...|                null|     8|         18|Southern Asia|     India|Jammu and Kashmir|            Jammu|           Akhnoor|              Keri| 32.9413|  74.5498|            2| Early Times (India)|    National|On 28 Jul, an Ind...|                   0|1532986405|       IND|\n",
      "|1733349|356|     IND33735|           33735|28 July 2018|2018|             1|      Riots/Protests|  Protesters (India)|Labour Group (India)|     6|                null|                null|     0|         60|Southern Asia|     India|Jammu and Kashmir|            Reasi|             Reasi|             Katra| 32.9917|   74.932|            1| Early Times (India)|    National|On 28 Jul, busine...|                   0|1532986405|       IND|\n",
      "|1733350|356|     IND33736|           33736|28 July 2018|2018|             1|Violence against ...|Unidentified Arme...|                null|     3|   Civilians (India)|BJP: Bharatiya Ja...|     7|         37|Southern Asia|     India|      West Bengal|South 24 Parganas|       Mandirbazar|       Mandirbazar| 22.1669|  88.2822|            2|         The Tribune| Subnational|On July 28, a loc...|                   1|1532986405|       IND|\n",
      "|1733351|356|     IND33737|           33737|28 July 2018|2018|             1|      Riots/Protests|     Rioters (India)|Hare Krishna Hind...|     5|Police Forces of ...|                null|     1|         15|Southern Asia|     India|           Odisha|          Khordha|       Bhubaneswar|       Bhubaneswar| 20.2724|  85.8338|            1|Odisha Sun Times ...|    National|On July 28, the p...|                   0|1532986405|       IND|\n",
      "|1733352|356|     IND33738|           33738|28 July 2018|2018|             1|      Riots/Protests|     Rioters (India)|Unidentified Comm...|     5|Police Forces of ...|                null|     1|         15|Southern Asia|     India|          Manipur|      Imphal West|            Imphal|            Imphal| 24.7908|  93.9302|            1|   Imphal Free Press|    National|On July 28, about...|                   0|1532986405|       IND|\n",
      "|1733353|356|     IND33739|           33739|28 July 2018|2018|             1|      Riots/Protests|  Protesters (India)|Labour Group (India)|     6|                null|                null|     0|         60|Southern Asia|     India|          Manipur|      Imphal West|            Imphal|            Imphal| 24.7908|  93.9302|            1|   Imphal Free Press|    National|On July 28, candi...|                   0|1532986405|       IND|\n",
      "|1733354|356|     IND33740|           33740|28 July 2018|2018|             1|      Riots/Protests|     Rioters (India)|                null|     5|Police Forces of ...|                null|     1|         15|Southern Asia|     India|          Manipur|          Jiribam|           Jiribam|           Lalpani| 24.7466|  93.1234|            1|     Hindustan Times|    National|On July 28, demon...|                   0|1532986405|       IND|\n",
      "|1733355|356|     IND33741|           33741|28 July 2018|2018|             1|Battle-No change ...|Unidentified Arme...|                null|     3|Police Forces of ...|                null|     1|         13|Southern Asia|     India|Jammu and Kashmir|          Pulwama|        Awantipora|          Jawbrara| 33.9292|  75.0029|            1|Asian News Intern...|    Regional|On 28 Jul, four C...|                   0|1532986405|       IND|\n",
      "|1733356|356|     IND33742|           33742|28 July 2018|2018|             1|Battle-No change ...|Unidentified Arme...|                null|     3|Military Forces o...|                null|     1|         13|Southern Asia|     India|Jammu and Kashmir|        Baramulla|            Sopore|             Seelo| 34.3316|  74.4225|            1| Early Times (India)|    National|On 28 Jul, no inj...|                   0|1532986405|       IND|\n",
      "|1733357|356|     IND33743|           33743|28 July 2018|2018|             1|      Riots/Protests|     Rioters (India)|Hare Krishna Hind...|     5|Police Forces of ...|                null|     1|         15|Southern Asia|     India|           Odisha|          Khordha|       Bhubaneswar|       Bhubaneswar| 20.2724|  85.8338|            1|UNI (United News ...|    National|On July 28, in Bh...|                   0|1532986405|       IND|\n",
      "|1733358|356|     IND33744|           33744|28 July 2018|2018|             1|      Riots/Protests|  Protesters (India)|    Teachers (India)|     6|                null|                null|     0|         60|Southern Asia|     India|Jammu and Kashmir|             Doda|              Doda|              Doda| 33.1454|  75.5635|            2| Early Times (India)|    National|On 28 Jul, the Te...|                   0|1532986405|       IND|\n",
      "|1733359|356|     IND33745|           33745|28 July 2018|2018|             1|      Riots/Protests|  Protesters (India)|    Teachers (India)|     6|                null|                null|     0|         60|Southern Asia|     India|Jammu and Kashmir|            Jammu|             Jammu|             Jammu| 32.7357|  74.8691|            2| Early Times (India)|    National|On 28 Jul, the Te...|                   0|1532986405|       IND|\n",
      "|1733360|356|     IND33746|           33746|28 July 2018|2018|             1|      Riots/Protests|  Protesters (India)|    Teachers (India)|     6|                null|                null|     0|         60|Southern Asia|     India|Jammu and Kashmir|           Kathua|            Kathua|            Kathua| 32.3867|  75.5174|            2| Early Times (India)|    National|On 28 Jul, the Te...|                   0|1532986405|       IND|\n",
      "|1733361|356|     IND33747|           33747|28 July 2018|2018|             1|      Riots/Protests|  Protesters (India)|    Teachers (India)|     6|                null|                null|     0|         60|Southern Asia|     India|Jammu and Kashmir|         Kishtwar|          Kishtwar|          Kishtwar| 33.3135|  75.7673|            2| Early Times (India)|    National|On 28 Jul, the Te...|                   0|1532986405|       IND|\n",
      "|1733362|356|     IND33748|           33748|28 July 2018|2018|             1|      Riots/Protests|  Protesters (India)|    Teachers (India)|     6|                null|                null|     0|         60|Southern Asia|     India|Jammu and Kashmir|           Poonch|            Haveli|            Poonch| 33.7703|  74.0925|            2| Early Times (India)|    National|On 28 Jul, the Te...|                   0|1532986405|       IND|\n",
      "|1733363|356|     IND33749|           33749|28 July 2018|2018|             1|      Riots/Protests|  Protesters (India)|    Teachers (India)|     6|                null|                null|     0|         60|Southern Asia|     India|Jammu and Kashmir|          Rajouri|           Rajouri|           Rajouri|   33.25|    74.25|            2| Early Times (India)|    National|On 28 Jul, the Te...|                   0|1532986405|       IND|\n",
      "+-------+---+-------------+----------------+------------+----+--------------+--------------------+--------------------+--------------------+------+--------------------+--------------------+------+-----------+-------------+----------+-----------------+-----------------+------------------+------------------+--------+---------+-------------+--------------------+------------+--------------------+--------------------+----------+----------+\n",
      "only showing top 20 rows\n",
      "\n"
     ]
    }
   ],
   "source": [
    "# Print top 20 rows data\n",
    "df.show()"
   ]
  },
  {
   "cell_type": "code",
   "execution_count": 6,
   "metadata": {},
   "outputs": [
    {
     "data": {
      "text/plain": [
       "216679"
      ]
     },
     "execution_count": 6,
     "metadata": {},
     "output_type": "execute_result"
    }
   ],
   "source": [
    "# Count data rows\n",
    "df.count()"
   ]
  },
  {
   "cell_type": "code",
   "execution_count": 7,
   "metadata": {},
   "outputs": [
    {
     "name": "stdout",
     "output_type": "stream",
     "text": [
      "root\n",
      " |-- data_id: integer (nullable = true)\n",
      " |-- iso: integer (nullable = true)\n",
      " |-- event_id_cnty: string (nullable = true)\n",
      " |-- event_id_no_cnty: integer (nullable = true)\n",
      " |-- event_date: string (nullable = true)\n",
      " |-- year: integer (nullable = true)\n",
      " |-- time_precision: integer (nullable = true)\n",
      " |-- event_type: string (nullable = true)\n",
      " |-- actor1: string (nullable = true)\n",
      " |-- assoc_actor_1: string (nullable = true)\n",
      " |-- inter1: integer (nullable = true)\n",
      " |-- actor2: string (nullable = true)\n",
      " |-- assoc_actor_2: string (nullable = true)\n",
      " |-- inter2: integer (nullable = true)\n",
      " |-- interaction: integer (nullable = true)\n",
      " |-- region: string (nullable = true)\n",
      " |-- country: string (nullable = true)\n",
      " |-- admin1: string (nullable = true)\n",
      " |-- admin2: string (nullable = true)\n",
      " |-- admin3: string (nullable = true)\n",
      " |-- location: string (nullable = true)\n",
      " |-- latitude: double (nullable = true)\n",
      " |-- longitude: double (nullable = true)\n",
      " |-- geo_precision: integer (nullable = true)\n",
      " |-- source: string (nullable = true)\n",
      " |-- source_scale: string (nullable = true)\n",
      " |-- notes: string (nullable = true)\n",
      " |-- fatalities: string (nullable = true)\n",
      " |-- timestamp: string (nullable = true)\n",
      " |-- iso3: string (nullable = true)\n",
      "\n"
     ]
    }
   ],
   "source": [
    "# inferSchema is used to inference the actual datatype of columns, especially for dates and timestamp\n",
    "df.printSchema()"
   ]
  },
  {
   "cell_type": "code",
   "execution_count": 8,
   "metadata": {},
   "outputs": [],
   "source": [
    "from pyspark.sql.functions import col"
   ]
  },
  {
   "cell_type": "code",
   "execution_count": 9,
   "metadata": {},
   "outputs": [],
   "source": [
    "# Register the dataframe as a SQL temporary view\n",
    "df.createOrReplaceTempView(\"asia_conflicts\")"
   ]
  },
  {
   "cell_type": "code",
   "execution_count": 10,
   "metadata": {},
   "outputs": [],
   "source": [
    "# Retrieve the data needed:\n",
    "# - Latitude\n",
    "# - Longitude\n",
    "# - Event Type\n",
    "# - Region\n",
    "\n",
    "# data = spark.sql(\"SELECT `latitude`, `longitude`, `region`, `country`, `event_type`\\\n",
    "#                   FROM asia_conflicts\")\n",
    "data = spark.sql(\"SELECT `latitude`, `longitude`, `region`, `country`, `event_type`, `actor1`\\\n",
    "                  FROM asia_conflicts\")"
   ]
  },
  {
   "cell_type": "code",
   "execution_count": 11,
   "metadata": {},
   "outputs": [
    {
     "name": "stdout",
     "output_type": "stream",
     "text": [
      "+--------+---------+-------------+----------+--------------------+--------------------+\n",
      "|latitude|longitude|       region|   country|          event_type|              actor1|\n",
      "+--------+---------+-------------+----------+--------------------+--------------------+\n",
      "| 22.3571|  91.7823|Southern Asia|Bangladesh|      Riots/Protests|Protesters (Bangl...|\n",
      "| 17.8635|  82.1959|Southern Asia|     India|Violence against ...|CPI (Maoist): Com...|\n",
      "| 17.8619|   82.197|Southern Asia|     India|Violence against ...|CPI (Maoist): Com...|\n",
      "| 30.7362|  76.7884|Southern Asia|     India|      Riots/Protests|  Protesters (India)|\n",
      "| 32.9413|  74.5498|Southern Asia|     India|Battle-No change ...|Military Forces o...|\n",
      "| 32.9917|   74.932|Southern Asia|     India|      Riots/Protests|  Protesters (India)|\n",
      "| 22.1669|  88.2822|Southern Asia|     India|Violence against ...|Unidentified Arme...|\n",
      "| 20.2724|  85.8338|Southern Asia|     India|      Riots/Protests|     Rioters (India)|\n",
      "| 24.7908|  93.9302|Southern Asia|     India|      Riots/Protests|     Rioters (India)|\n",
      "| 24.7908|  93.9302|Southern Asia|     India|      Riots/Protests|  Protesters (India)|\n",
      "| 24.7466|  93.1234|Southern Asia|     India|      Riots/Protests|     Rioters (India)|\n",
      "| 33.9292|  75.0029|Southern Asia|     India|Battle-No change ...|Unidentified Arme...|\n",
      "| 34.3316|  74.4225|Southern Asia|     India|Battle-No change ...|Unidentified Arme...|\n",
      "| 20.2724|  85.8338|Southern Asia|     India|      Riots/Protests|     Rioters (India)|\n",
      "| 33.1454|  75.5635|Southern Asia|     India|      Riots/Protests|  Protesters (India)|\n",
      "| 32.7357|  74.8691|Southern Asia|     India|      Riots/Protests|  Protesters (India)|\n",
      "| 32.3867|  75.5174|Southern Asia|     India|      Riots/Protests|  Protesters (India)|\n",
      "| 33.3135|  75.7673|Southern Asia|     India|      Riots/Protests|  Protesters (India)|\n",
      "| 33.7703|  74.0925|Southern Asia|     India|      Riots/Protests|  Protesters (India)|\n",
      "|   33.25|    74.25|Southern Asia|     India|      Riots/Protests|  Protesters (India)|\n",
      "+--------+---------+-------------+----------+--------------------+--------------------+\n",
      "only showing top 20 rows\n",
      "\n"
     ]
    }
   ],
   "source": [
    "data.show()"
   ]
  },
  {
   "cell_type": "code",
   "execution_count": 12,
   "metadata": {},
   "outputs": [
    {
     "data": {
      "text/plain": [
       "216679"
      ]
     },
     "execution_count": 12,
     "metadata": {},
     "output_type": "execute_result"
    }
   ],
   "source": [
    "data.count()"
   ]
  },
  {
   "cell_type": "code",
   "execution_count": 13,
   "metadata": {},
   "outputs": [
    {
     "name": "stdout",
     "output_type": "stream",
     "text": [
      "+--------+---------+-------------+----------+--------------------+--------------------+-----------------+\n",
      "|latitude|longitude|       region|   country|          event_type|              actor1|         features|\n",
      "+--------+---------+-------------+----------+--------------------+--------------------+-----------------+\n",
      "| 22.3571|  91.7823|Southern Asia|Bangladesh|      Riots/Protests|Protesters (Bangl...|[22.3571,91.7823]|\n",
      "| 17.8635|  82.1959|Southern Asia|     India|Violence against ...|CPI (Maoist): Com...|[17.8635,82.1959]|\n",
      "| 17.8619|   82.197|Southern Asia|     India|Violence against ...|CPI (Maoist): Com...| [17.8619,82.197]|\n",
      "| 30.7362|  76.7884|Southern Asia|     India|      Riots/Protests|  Protesters (India)|[30.7362,76.7884]|\n",
      "| 32.9413|  74.5498|Southern Asia|     India|Battle-No change ...|Military Forces o...|[32.9413,74.5498]|\n",
      "| 32.9917|   74.932|Southern Asia|     India|      Riots/Protests|  Protesters (India)| [32.9917,74.932]|\n",
      "| 22.1669|  88.2822|Southern Asia|     India|Violence against ...|Unidentified Arme...|[22.1669,88.2822]|\n",
      "| 20.2724|  85.8338|Southern Asia|     India|      Riots/Protests|     Rioters (India)|[20.2724,85.8338]|\n",
      "| 24.7908|  93.9302|Southern Asia|     India|      Riots/Protests|     Rioters (India)|[24.7908,93.9302]|\n",
      "| 24.7908|  93.9302|Southern Asia|     India|      Riots/Protests|  Protesters (India)|[24.7908,93.9302]|\n",
      "| 24.7466|  93.1234|Southern Asia|     India|      Riots/Protests|     Rioters (India)|[24.7466,93.1234]|\n",
      "| 33.9292|  75.0029|Southern Asia|     India|Battle-No change ...|Unidentified Arme...|[33.9292,75.0029]|\n",
      "| 34.3316|  74.4225|Southern Asia|     India|Battle-No change ...|Unidentified Arme...|[34.3316,74.4225]|\n",
      "| 20.2724|  85.8338|Southern Asia|     India|      Riots/Protests|     Rioters (India)|[20.2724,85.8338]|\n",
      "| 33.1454|  75.5635|Southern Asia|     India|      Riots/Protests|  Protesters (India)|[33.1454,75.5635]|\n",
      "| 32.7357|  74.8691|Southern Asia|     India|      Riots/Protests|  Protesters (India)|[32.7357,74.8691]|\n",
      "| 32.3867|  75.5174|Southern Asia|     India|      Riots/Protests|  Protesters (India)|[32.3867,75.5174]|\n",
      "| 33.3135|  75.7673|Southern Asia|     India|      Riots/Protests|  Protesters (India)|[33.3135,75.7673]|\n",
      "| 33.7703|  74.0925|Southern Asia|     India|      Riots/Protests|  Protesters (India)|[33.7703,74.0925]|\n",
      "|   33.25|    74.25|Southern Asia|     India|      Riots/Protests|  Protesters (India)|    [33.25,74.25]|\n",
      "+--------+---------+-------------+----------+--------------------+--------------------+-----------------+\n",
      "only showing top 20 rows\n",
      "\n"
     ]
    }
   ],
   "source": [
    "# Import VectorAssembler\n",
    "from pyspark.ml.feature import VectorAssembler\n",
    "\n",
    "vector_assembler = VectorAssembler(inputCols=[\"latitude\", \"longitude\"], outputCol=\"features\")\n",
    "df_assembled = vector_assembler.transform(data)\n",
    "\n",
    "df_assembled.show()"
   ]
  },
  {
   "cell_type": "code",
   "execution_count": 14,
   "metadata": {},
   "outputs": [],
   "source": [
    "# Import KMeans\n",
    "from pyspark.ml.clustering import KMeans\n",
    "\n",
    "# Train a k-means model\n",
    "kmeans = KMeans().setK(5).setSeed(1)\n",
    "model = kmeans.fit(df_assembled.select('features'))"
   ]
  },
  {
   "cell_type": "code",
   "execution_count": 15,
   "metadata": {},
   "outputs": [
    {
     "name": "stdout",
     "output_type": "stream",
     "text": [
      "+--------+---------+-------------+----------+--------------------+--------------------+-----------------+----------+\n",
      "|latitude|longitude|       region|   country|          event_type|              actor1|         features|prediction|\n",
      "+--------+---------+-------------+----------+--------------------+--------------------+-----------------+----------+\n",
      "| 22.3571|  91.7823|Southern Asia|Bangladesh|      Riots/Protests|Protesters (Bangl...|[22.3571,91.7823]|         2|\n",
      "| 17.8635|  82.1959|Southern Asia|     India|Violence against ...|CPI (Maoist): Com...|[17.8635,82.1959]|         1|\n",
      "| 17.8619|   82.197|Southern Asia|     India|Violence against ...|CPI (Maoist): Com...| [17.8619,82.197]|         1|\n",
      "| 30.7362|  76.7884|Southern Asia|     India|      Riots/Protests|  Protesters (India)|[30.7362,76.7884]|         3|\n",
      "| 32.9413|  74.5498|Southern Asia|     India|Battle-No change ...|Military Forces o...|[32.9413,74.5498]|         3|\n",
      "| 32.9917|   74.932|Southern Asia|     India|      Riots/Protests|  Protesters (India)| [32.9917,74.932]|         3|\n",
      "| 22.1669|  88.2822|Southern Asia|     India|Violence against ...|Unidentified Arme...|[22.1669,88.2822]|         2|\n",
      "| 20.2724|  85.8338|Southern Asia|     India|      Riots/Protests|     Rioters (India)|[20.2724,85.8338]|         2|\n",
      "| 24.7908|  93.9302|Southern Asia|     India|      Riots/Protests|     Rioters (India)|[24.7908,93.9302]|         2|\n",
      "| 24.7908|  93.9302|Southern Asia|     India|      Riots/Protests|  Protesters (India)|[24.7908,93.9302]|         2|\n",
      "| 24.7466|  93.1234|Southern Asia|     India|      Riots/Protests|     Rioters (India)|[24.7466,93.1234]|         2|\n",
      "| 33.9292|  75.0029|Southern Asia|     India|Battle-No change ...|Unidentified Arme...|[33.9292,75.0029]|         3|\n",
      "| 34.3316|  74.4225|Southern Asia|     India|Battle-No change ...|Unidentified Arme...|[34.3316,74.4225]|         3|\n",
      "| 20.2724|  85.8338|Southern Asia|     India|      Riots/Protests|     Rioters (India)|[20.2724,85.8338]|         2|\n",
      "| 33.1454|  75.5635|Southern Asia|     India|      Riots/Protests|  Protesters (India)|[33.1454,75.5635]|         3|\n",
      "| 32.7357|  74.8691|Southern Asia|     India|      Riots/Protests|  Protesters (India)|[32.7357,74.8691]|         3|\n",
      "| 32.3867|  75.5174|Southern Asia|     India|      Riots/Protests|  Protesters (India)|[32.3867,75.5174]|         3|\n",
      "| 33.3135|  75.7673|Southern Asia|     India|      Riots/Protests|  Protesters (India)|[33.3135,75.7673]|         3|\n",
      "| 33.7703|  74.0925|Southern Asia|     India|      Riots/Protests|  Protesters (India)|[33.7703,74.0925]|         3|\n",
      "|   33.25|    74.25|Southern Asia|     India|      Riots/Protests|  Protesters (India)|    [33.25,74.25]|         3|\n",
      "+--------+---------+-------------+----------+--------------------+--------------------+-----------------+----------+\n",
      "only showing top 20 rows\n",
      "\n"
     ]
    }
   ],
   "source": [
    "# Make predictions by transforming the initial dataframe\n",
    "transform = model.transform(df_assembled)\n",
    "\n",
    "transform.show()"
   ]
  },
  {
   "cell_type": "code",
   "execution_count": 16,
   "metadata": {},
   "outputs": [],
   "source": [
    "# Import ClusteringEvaluator\n",
    "from pyspark.ml.evaluation import ClusteringEvaluator\n",
    "\n",
    "# Evaluate clustering by computing Silhouette score\n",
    "evaluator = ClusteringEvaluator()\n",
    "silhouette = evaluator.evaluate(transform)"
   ]
  },
  {
   "cell_type": "code",
   "execution_count": 17,
   "metadata": {
    "scrolled": true
   },
   "outputs": [
    {
     "name": "stdout",
     "output_type": "stream",
     "text": [
      "Silhouette with squared euclidean distance = 0.806699423254\n"
     ]
    }
   ],
   "source": [
    "# Print the Silhouette score\n",
    "print(\"Silhouette with squared euclidean distance = \" + str(silhouette))"
   ]
  },
  {
   "cell_type": "code",
   "execution_count": 18,
   "metadata": {},
   "outputs": [
    {
     "name": "stdout",
     "output_type": "stream",
     "text": [
      "Cluster Centers: \n",
      "[29.75465536 40.22710422]\n",
      "[11.78937851 78.40535501]\n",
      "[24.38819311 90.41659653]\n",
      "[30.37042443 70.9009786 ]\n",
      "[ 10.68785236 112.95842702]\n"
     ]
    }
   ],
   "source": [
    "centers = model.clusterCenters()\n",
    "\n",
    "print(\"Cluster Centers: \")\n",
    "for center in centers:\n",
    "    print(center)"
   ]
  },
  {
   "cell_type": "code",
   "execution_count": 19,
   "metadata": {},
   "outputs": [],
   "source": [
    "# Convert to Pandas\n",
    "import pandas as pd\n",
    "\n",
    "# Convert to CSV, so mapbox API can render it\n",
    "transform.toPandas().to_csv('/root/Lecture/BIGDATA/datasets/big_data_asia_conflicts.csv')"
   ]
  },
  {
   "cell_type": "code",
   "execution_count": 20,
   "metadata": {},
   "outputs": [
    {
     "data": {
      "text/html": [
       "\n",
       "        <div style=\"margin:10px\">\n",
       "            <a href=\"https://github.com/ibm-watson-data-lab/pixiedust\" target=\"_new\">\n",
       "                <img src=\"https://github.com/ibm-watson-data-lab/pixiedust/raw/master/docs/_static/pd_icon32.png\" style=\"float:left;margin-right:10px\"/>\n",
       "            </a>\n",
       "            <span>Pixiedust version 1.1.15</span>\n",
       "        </div>\n",
       "        "
      ],
      "text/plain": [
       "<IPython.core.display.HTML object>"
      ]
     },
     "metadata": {},
     "output_type": "display_data"
    },
    {
     "name": "stdout",
     "output_type": "stream",
     "text": [
      "Pixiedust database opened successfully\n"
     ]
    },
    {
     "data": {
      "text/html": [
       "<div>Warning: You are not running the latest version of PixieDust. Current is 1.1.15, Latest is 1.1.16</div>"
      ],
      "text/plain": [
       "<IPython.core.display.HTML object>"
      ]
     },
     "metadata": {},
     "output_type": "display_data"
    },
    {
     "data": {
      "text/html": [
       "\n",
       "                <div>Please copy and run the following command in a new cell to upgrade: <span style=\"background-color:#ececec;font-family:monospace;padding:0 5px\">!pip install --user --upgrade pixiedust</span></div>\n",
       "            "
      ],
      "text/plain": [
       "<IPython.core.display.HTML object>"
      ]
     },
     "metadata": {},
     "output_type": "display_data"
    },
    {
     "data": {
      "text/html": [
       "<div>Please restart kernel after upgrading.</div>"
      ],
      "text/plain": [
       "<IPython.core.display.HTML object>"
      ]
     },
     "metadata": {},
     "output_type": "display_data"
    },
    {
     "name": "stdout",
     "output_type": "stream",
     "text": [
      "Downloading 'file:///root/Lecture/BIGDATA/datasets/big_data_asia_conflicts.csv' from file:///root/Lecture/BIGDATA/datasets/big_data_asia_conflicts.csv\n",
      "Downloaded 24546457 bytes\n",
      "Creating pySpark DataFrame for 'file:///root/Lecture/BIGDATA/datasets/big_data_asia_conflicts.csv'. Please wait...\n",
      "Loading file using 'SparkSession'\n",
      "Successfully created pySpark DataFrame for 'file:///root/Lecture/BIGDATA/datasets/big_data_asia_conflicts.csv'\n"
     ]
    }
   ],
   "source": [
    "# Import pixiedust to do visualization\n",
    "import pixiedust\n",
    "\n",
    "# Open the CSV file\n",
    "prediction = pixiedust.sampleData('file:///root/Lecture/BIGDATA/datasets/big_data_asia_conflicts.csv')"
   ]
  },
  {
   "cell_type": "code",
   "execution_count": 22,
   "metadata": {
    "pixiedust": {
     "displayParams": {
      "chartsize": "85",
      "coloropacity": "100",
      "colorrampname": "Custom Color Range",
      "custombasecolorsecondary": "#0024ff",
      "handlerId": "mapView",
      "keyFields": "latitude,longitude",
      "kind": "choropleth",
      "mapboxtoken": "pk.eyJ1IjoibWFwYm94IiwiYSI6ImNpejY4M29iazA2Z2gycXA4N2pmbDZmangifQ.-g_vE53SD2WrJ6tFX7QHmA",
      "rowCount": "100",
      "title": "Asia Conflicts Clustering",
      "valueFields": "country,region,event_type,actor1"
     }
    },
    "scrolled": true
   },
   "outputs": [
    {
     "data": {
      "text/html": [
       "<style type=\"text/css\">.pd_warning{display:none;}</style><div class=\"pd_warning\"><em>Hey, there's something awesome here! To see it, open this notebook outside GitHub, in a viewer like Jupyter</em></div>\n",
       "        <div class=\"pd_save is-viewer-good\" style=\"padding-right:10px;text-align: center;line-height:initial !important;font-size: xx-large;font-weight: 500;color: coral;\">\n",
       "            Asia Conflicts Clustering\n",
       "        </div>\n",
       "    <div id=\"chartFigure9b10820c\" class=\"pd_save is-viewer-good\" style=\"overflow-x:auto\">\n",
       "            <script>\n",
       "  window.iframeLoaded = window.iframeLoaded || function(iframe) {\n",
       "    try {\n",
       "      iframe.contentWindow.pdMessageListeners = [];\n",
       "      iframe.contentWindow[\"addPDMessageListener\"] = function(listener){\n",
       "        iframe.contentWindow.pdMessageListeners.push(listener);\n",
       "      }\n",
       "      iframe.contentWindow.addEventListener(\"message\", function(event){\n",
       "        iframe.contentWindow.pdMessageListeners.forEach(function(listener){\n",
       "          listener(event);\n",
       "        });\n",
       "      }, false);\n",
       "      iframe.contentWindow.ready = true;\n",
       "      iframe.contentWindow[\"triggerPDEvent\"] = function(eventInfo) {\n",
       "        $(document).trigger('pd_event', eventInfo);\n",
       "      }\n",
       "    } catch (e) {\n",
       "      console.log(e)\n",
       "    }\n",
       "  }\n",
       "\n",
       "  \n",
       "</script>\n",
       "<iframe id=\"mapframe9b10820c\" style=\"width:746.64px;height:500px\" srcdoc=\"<!DOCTYPE html>\n",
       "<html lang=&quot;en&quot;>\n",
       "<head>\n",
       "    <meta charset=&quot;UTF-8&quot;>\n",
       "    <meta name=&quot;viewport&quot; content=&quot;width=device-width, initial-scale=1&quot;>\n",
       "    <title>Pixiedust Mapbox map</title>\n",
       "    <script src=&quot;https://api.tiles.mapbox.com/mapbox-gl-js/v0.32.1/mapbox-gl.js&quot;></script>\n",
       "    <link href=&quot;https://api.tiles.mapbox.com/mapbox-gl-js/v0.32.1/mapbox-gl.css&quot; rel=&quot;stylesheet&quot; />\n",
       "    <style>\n",
       "    .mapboxgl-popup-content h3 { \n",
       "        margin: 2px 0 2px 0;\n",
       "        font-style: italic;\n",
       "    }\n",
       "    .mapboxgl-popup {\n",
       "        max-width: 200px;\n",
       "    }\n",
       "    #map canvas {\n",
       "        cursor: crosshair;\n",
       "    }\n",
       "    .legend {\n",
       "        background-color: rgba(255,255,255, 0.75);\n",
       "        border-radius: 3px;\n",
       "        position: absolute;\n",
       "        left: 14px;\n",
       "        top: 14px;\n",
       "        box-shadow: 0 1px 2px rgba(0,0,0,0.10);\n",
       "        font-size: 12px;\n",
       "        line-height: 18px;\n",
       "        padding: 10px;\n",
       "        z-index: 1;\n",
       "    }\n",
       "    .legend h4 {\n",
       "        margin: 0 0 10px;\n",
       "    }\n",
       "    .legend div span {\n",
       "        border-radius: 50%;\n",
       "        display: inline-block;\n",
       "        height: 10px;\n",
       "        margin-right: 5px;\n",
       "        width: 10px;\n",
       "    }\n",
       "    body { \n",
       "        background-color:#333; \n",
       "        margin:0px !important; \n",
       "        overflow: hidden;\n",
       "        font-family: &quot;Helvetica Neue&quot;, Arial, Helvetica, sans-serif;\n",
       "    }\n",
       "    </style>\n",
       "</head>\n",
       "<body>\n",
       "<div id=&quot;map-9b10820c-54a3ecbe&quot; style=&quot;width:calc(746.64px - 4px);height:calc(500px - 4px)&quot; />\n",
       "\n",
       "\n",
       "<script>\n",
       "    !function(e){if(&quot;object&quot;==typeof exports&amp;&amp;&quot;undefined&quot;!=typeof module)module.exports=e();else if(&quot;function&quot;==typeof define&amp;&amp;define.amd)define([],e);else{var n;&quot;undefined&quot;!=typeof window?n=window:&quot;undefined&quot;!=typeof global?n=global:&quot;undefined&quot;!=typeof self&amp;&amp;(n=self),n.geojsonExtent=e()}}(function(){return function e(t,n,r){function s(o,u){if(!n[o]){if(!t[o]){var a=&quot;function&quot;==typeof require&amp;&amp;require;if(!u&amp;&amp;a)return a(o,!0);if(i)return i(o,!0);var f=new Error(&quot;Cannot find module &quot;+o+&quot;&quot;);throw f.code=&quot;MODULE_NOT_FOUND&quot;,f}var l=n[o]={exports:{}};t[o][0].call(l.exports,function(e){var n=t[o][1][e];return s(n?n:e)},l,l.exports,e,t,n,r)}return n[o].exports}for(var i=&quot;function&quot;==typeof require&amp;&amp;require,o=0;o<r.length;o++)s(r[o]);return s}({1:[function(require,module){function getExtent(_){for(var ext=extent(),coords=geojsonCoords(_),i=0;i<coords.length;i++)ext.include(coords[i]);return ext}var geojsonCoords=require(&quot;geojson-coords&quot;),traverse=require(&quot;traverse&quot;),extent=require(&quot;extent&quot;),geojsonTypes=[&quot;Point&quot;,&quot;MultiPoint&quot;,&quot;LineString&quot;,&quot;MultiLineString&quot;,&quot;Polygon&quot;,&quot;MultiPolygon&quot;,&quot;Feature&quot;,&quot;FeatureCollection&quot;,&quot;GeometryCollection&quot;];module.exports=function(_){return getExtent(_).bbox()},module.exports.polygon=function(_){return getExtent(_).polygon()},module.exports.bboxify=function(_){return traverse(_).map(function(value){value&amp;&amp;-1!==typeof geojsonTypes.indexOf(value.type)&amp;&amp;(console.log(value.type,value),value.bbox=getExtent(value).bbox(),this.update(value))})}},{extent:2,&quot;geojson-coords&quot;:4,traverse:7}],2:[function(require,module){function Extent(){return this instanceof Extent?(this._bbox=[1/0,1/0,-(1/0),-(1/0)],void(this._valid=!1)):new Extent}module.exports=Extent,Extent.prototype.include=function(ll){return this._valid=!0,this._bbox[0]=Math.min(this._bbox[0],ll[0]),this._bbox[1]=Math.min(this._bbox[1],ll[1]),this._bbox[2]=Math.max(this._bbox[2],ll[0]),this._bbox[3]=Math.max(this._bbox[3],ll[1]),this},Extent.prototype.union=function(other){return this._valid=!0,this._bbox[0]=Math.min(this._bbox[0],other[0]),this._bbox[1]=Math.min(this._bbox[1],other[1]),this._bbox[2]=Math.max(this._bbox[2],other[2]),this._bbox[3]=Math.max(this._bbox[3],other[3]),this},Extent.prototype.bbox=function(){return this._valid?this._bbox:null},Extent.prototype.contains=function(ll){return this._valid?this._bbox[0]<=ll[0]&amp;&amp;this._bbox[1]<=ll[1]&amp;&amp;this._bbox[2]>=ll[0]&amp;&amp;this._bbox[3]>=ll[1]:null},Extent.prototype.polygon=function(){return this._valid?{type:&quot;Polygon&quot;,coordinates:[[[this._bbox[0],this._bbox[1]],[this._bbox[2],this._bbox[1]],[this._bbox[2],this._bbox[3]],[this._bbox[0],this._bbox[3]],[this._bbox[0],this._bbox[1]]]]}:null}},{}],3:[function(require,module){module.exports=function(list){function _flatten(list){return Array.isArray(list)&amp;&amp;list.length&amp;&amp;&quot;number&quot;==typeof list[0]?[list]:list.reduce(function(acc,item){return Array.isArray(item)&amp;&amp;Array.isArray(item[0])?acc.concat(_flatten(item)):(acc.push(item),acc)},[])}return _flatten(list)}},{}],4:[function(require,module){var geojsonNormalize=require(&quot;geojson-normalize&quot;),geojsonFlatten=require(&quot;geojson-flatten&quot;),flatten=require(&quot;./flatten&quot;);module.exports=function(_){if(!_)return[];var normalized=geojsonFlatten(geojsonNormalize(_)),coordinates=[];return normalized.features.forEach(function(feature){feature.geometry&amp;&amp;(coordinates=coordinates.concat(flatten(feature.geometry.coordinates)))}),coordinates}},{&quot;./flatten&quot;:3,&quot;geojson-flatten&quot;:5,&quot;geojson-normalize&quot;:6}],5:[function(require,module){function flatten(gj){switch(gj&amp;&amp;gj.type||null){case&quot;FeatureCollection&quot;:return gj.features=gj.features.reduce(function(mem,feature){return mem.concat(flatten(feature))},[]),gj;case&quot;Feature&quot;:return flatten(gj.geometry).map(function(geom){return{type:&quot;Feature&quot;,properties:JSON.parse(JSON.stringify(gj.properties)),geometry:geom}});case&quot;MultiPoint&quot;:return gj.coordinates.map(function(_){return{type:&quot;Point&quot;,coordinates:_}});case&quot;MultiPolygon&quot;:return gj.coordinates.map(function(_){return{type:&quot;Polygon&quot;,coordinates:_}});case&quot;MultiLineString&quot;:return gj.coordinates.map(function(_){return{type:&quot;LineString&quot;,coordinates:_}});case&quot;GeometryCollection&quot;:return gj.geometries;case&quot;Point&quot;:case&quot;Polygon&quot;:case&quot;LineString&quot;:return[gj];default:return gj}}module.exports=flatten},{}],6:[function(require,module){function normalize(gj){if(!gj||!gj.type)return null;var type=types[gj.type];return type?&quot;geometry&quot;===type?{type:&quot;FeatureCollection&quot;,features:[{type:&quot;Feature&quot;,properties:{},geometry:gj}]}:&quot;feature&quot;===type?{type:&quot;FeatureCollection&quot;,features:[gj]}:&quot;featurecollection&quot;===type?gj:void 0:null}module.exports=normalize;var types={Point:&quot;geometry&quot;,MultiPoint:&quot;geometry&quot;,LineString:&quot;geometry&quot;,MultiLineString:&quot;geometry&quot;,Polygon:&quot;geometry&quot;,MultiPolygon:&quot;geometry&quot;,GeometryCollection:&quot;geometry&quot;,Feature:&quot;feature&quot;,FeatureCollection:&quot;featurecollection&quot;}},{}],7:[function(require,module){function Traverse(obj){this.value=obj}function walk(root,cb,immutable){var path=[],parents=[],alive=!0;return function walker(node_){function updateState(){if(&quot;object&quot;==typeof state.node&amp;&amp;null!==state.node){state.keys&amp;&amp;state.node_===state.node||(state.keys=objectKeys(state.node)),state.isLeaf=0==state.keys.length;for(var i=0;i<parents.length;i++)if(parents[i].node_===node_){state.circular=parents[i];break}}else state.isLeaf=!0,state.keys=null;state.notLeaf=!state.isLeaf,state.notRoot=!state.isRoot}var node=immutable?copy(node_):node_,modifiers={},keepGoing=!0,state={node:node,node_:node_,path:[].concat(path),parent:parents[parents.length-1],parents:parents,key:path.slice(-1)[0],isRoot:0===path.length,level:path.length,circular:null,update:function(x,stopHere){state.isRoot||(state.parent.node[state.key]=x),state.node=x,stopHere&amp;&amp;(keepGoing=!1)},&quot;delete&quot;:function(stopHere){delete state.parent.node[state.key],stopHere&amp;&amp;(keepGoing=!1)},remove:function(stopHere){isArray(state.parent.node)?state.parent.node.splice(state.key,1):delete state.parent.node[state.key],stopHere&amp;&amp;(keepGoing=!1)},keys:null,before:function(f){modifiers.before=f},after:function(f){modifiers.after=f},pre:function(f){modifiers.pre=f},post:function(f){modifiers.post=f},stop:function(){alive=!1},block:function(){keepGoing=!1}};if(!alive)return state;updateState();var ret=cb.call(state,state.node);return void 0!==ret&amp;&amp;state.update&amp;&amp;state.update(ret),modifiers.before&amp;&amp;modifiers.before.call(state,state.node),keepGoing?(&quot;object&quot;!=typeof state.node||null===state.node||state.circular||(parents.push(state),updateState(),forEach(state.keys,function(key,i){path.push(key),modifiers.pre&amp;&amp;modifiers.pre.call(state,state.node[key],key);var child=walker(state.node[key]);immutable&amp;&amp;hasOwnProperty.call(state.node,key)&amp;&amp;(state.node[key]=child.node),child.isLast=i==state.keys.length-1,child.isFirst=0==i,modifiers.post&amp;&amp;modifiers.post.call(state,child),path.pop()}),parents.pop()),modifiers.after&amp;&amp;modifiers.after.call(state,state.node),state):state}(root).node}function copy(src){if(&quot;object&quot;==typeof src&amp;&amp;null!==src){var dst;if(isArray(src))dst=[];else if(isDate(src))dst=new Date(src.getTime?src.getTime():src);else if(isRegExp(src))dst=new RegExp(src);else if(isError(src))dst={message:src.message};else if(isBoolean(src))dst=new Boolean(src);else if(isNumber(src))dst=new Number(src);else if(isString(src))dst=new String(src);else if(Object.create&amp;&amp;Object.getPrototypeOf)dst=Object.create(Object.getPrototypeOf(src));else if(src.constructor===Object)dst={};else{var proto=src.constructor&amp;&amp;src.constructor.prototype||src.__proto__||{},T=function(){};T.prototype=proto,dst=new T}return forEach(objectKeys(src),function(key){dst[key]=src[key]}),dst}return src}function toS(obj){return Object.prototype.toString.call(obj)}function isDate(obj){return&quot;[object Date]&quot;===toS(obj)}function isRegExp(obj){return&quot;[object RegExp]&quot;===toS(obj)}function isError(obj){return&quot;[object Error]&quot;===toS(obj)}function isBoolean(obj){return&quot;[object Boolean]&quot;===toS(obj)}function isNumber(obj){return&quot;[object Number]&quot;===toS(obj)}function isString(obj){return&quot;[object String]&quot;===toS(obj)}var traverse=module.exports=function(obj){return new Traverse(obj)};Traverse.prototype.get=function(ps){for(var node=this.value,i=0;i<ps.length;i++){var key=ps[i];if(!node||!hasOwnProperty.call(node,key)){node=void 0;break}node=node[key]}return node},Traverse.prototype.has=function(ps){for(var node=this.value,i=0;i<ps.length;i++){var key=ps[i];if(!node||!hasOwnProperty.call(node,key))return!1;node=node[key]}return!0},Traverse.prototype.set=function(ps,value){for(var node=this.value,i=0;i<ps.length-1;i++){var key=ps[i];hasOwnProperty.call(node,key)||(node[key]={}),node=node[key]}return node[ps[i]]=value,value},Traverse.prototype.map=function(cb){return walk(this.value,cb,!0)},Traverse.prototype.forEach=function(cb){return this.value=walk(this.value,cb,!1),this.value},Traverse.prototype.reduce=function(cb,init){var skip=1===arguments.length,acc=skip?this.value:init;return this.forEach(function(x){this.isRoot&amp;&amp;skip||(acc=cb.call(this,acc,x))}),acc},Traverse.prototype.paths=function(){var acc=[];return this.forEach(function(){acc.push(this.path)}),acc},Traverse.prototype.nodes=function(){var acc=[];return this.forEach(function(){acc.push(this.node)}),acc},Traverse.prototype.clone=function(){var parents=[],nodes=[];return function clone(src){for(var i=0;i<parents.length;i++)if(parents[i]===src)return nodes[i];if(&quot;object&quot;==typeof src&amp;&amp;null!==src){var dst=copy(src);return parents.push(src),nodes.push(dst),forEach(objectKeys(src),function(key){dst[key]=clone(src[key])}),parents.pop(),nodes.pop(),dst}return src}(this.value)};var objectKeys=Object.keys||function(obj){var res=[];for(var key in obj)res.push(key);return res},isArray=Array.isArray||function(xs){return&quot;[object Array]&quot;===Object.prototype.toString.call(xs)},forEach=function(xs,fn){if(xs.forEach)return xs.forEach(fn);for(var i=0;i<xs.length;i++)fn(xs[i],i,xs)};forEach(objectKeys(Traverse.prototype),function(key){traverse[key]=function(obj){var args=[].slice.call(arguments,1),t=new Traverse(obj);return t[key].apply(t,args)}});var hasOwnProperty=Object.hasOwnProperty||function(obj,key){return key in obj}},{}]},{},[1])(1)});    \n",
       "    var comment = &quot;&quot;;\n",
       "    mapboxgl.accessToken=&quot;pk.eyJ1IjoibWFwYm94IiwiYSI6ImNpejY4M29iazA2Z2gycXA4N2pmbDZmangifQ.-g_vE53SD2WrJ6tFX7QHmA&quot;;\n",
       "    var mapdata = null;\n",
       "    var map = new mapboxgl.Map({\n",
       "        container: &quot;map-9b10820c-54a3ecbe&quot;,\n",
       "        style: &quot;mapbox://styles/mapbox/light-v9&quot;\n",
       "    });\n",
       "\n",
       "    setTimeout(function(){\n",
       "        if (window.addPDMessageListener){\n",
       "            window.addPDMessageListener(function(event){\n",
       "                streamingLayer = map.getSource(&quot;streamingLayer&quot;);\n",
       "                if (streamingLayer){\n",
       "                    streamingLayer.setData(event.data.data);\n",
       "                }else{\n",
       "                    map.addLayer({\n",
       "                        &quot;id&quot;: &quot;streamingLayer&quot;,\n",
       "                        &quot;maptype&quot;: &quot;mapbox&quot;,\n",
       "                        &quot;type&quot;: event.data.type,\n",
       "                        &quot;source&quot;: { type: &quot;geojson&quot;, data: event.data.data },\n",
       "                        &quot;layout&quot;: event.data.layout || {},\n",
       "                        &quot;paint&quot;: event.data.paint || {}\n",
       "                    });\n",
       "                    if (event.data.fitbounds &amp;&amp; event.data.data.features){\n",
       "                        function updateBounds(res, ar){\n",
       "                            if (ar[0].length >=2 &amp;&amp; ar[1].length >= 2 ){\n",
       "                                if (!res){\n",
       "                                    return ar;\n",
       "                                }\n",
       "                                return [ \n",
       "                                    [Math.min( ar[0][0]-0.1, res[0][0]), Math.min( ar[0][1]-0.1, res[0][1])],\n",
       "                                    [Math.max( ar[1][0]+0.1, res[1][0]), Math.max( ar[1][1]+0.1, res[1][1])]\n",
       "                                ]\n",
       "                            }\n",
       "                            return null;\n",
       "                        }\n",
       "                        var bbox = event.data.data.features.reduce(function(res, value){\n",
       "                            var coord = value.geometry.coordinates;\n",
       "                            if (coord.length >= 2 ){\n",
       "                                res = updateBounds( res, [coord[0], coord[1]]);\n",
       "                            }\n",
       "                            return res;\n",
       "                        }, null);\n",
       "                        if (bbox){\n",
       "                            map.fitBounds(bbox);\n",
       "                        }\n",
       "                    }\n",
       "                }\n",
       "            });\n",
       "        };\n",
       "    },100);\n",
       "\n",
       "    var popup = new mapboxgl.Popup({closeButton: false,closeOnClick: true});\n",
       "\n",
       "    function divineGeometryType(mapdata) {\n",
       "        comment = &quot;check type of first geometry. Later expand to check all geometries and make a good decision&quot;;\n",
       "        return mapdata.features[0].geometry.type;\n",
       "    }\n",
       "    \n",
       "    map.on(&quot;mousemove&quot;, function (e) {\n",
       "        var fs = map.queryRenderedFeatures(e.point,{layers:[&quot;pxlayer&quot;]});\n",
       "        if (!fs || !fs.length) {popup.remove();return;};\n",
       "        popuphtml = &quot;&quot;;\n",
       "        var hr = false;\n",
       "        fs.forEach(function(f){\n",
       "            if (hr){ \n",
       "                popuphtml += &quot;<hr>\\n&quot;;\n",
       "            }\n",
       "            hr=true;\n",
       "            popuphtml += &quot;<h3>&quot;+f.layer.id.toUpperCase()+&quot;</h3>\\n&quot;;\n",
       "            var keylength = Object.keys(f.properties).length;\n",
       "            for (var key in f.properties) {\n",
       "                popuphtml += &quot;<b>&quot;+key+&quot;: </b> &quot;+f.properties[key]+&quot;<br/>\\n&quot;;\n",
       "            }\n",
       "        });\n",
       "        popup.setLngLat(e.lngLat).setHTML(popuphtml).addTo(map);\n",
       "    });\n",
       "    \n",
       "    map.on(&quot;click&quot;, function (e) {\n",
       "        var fs = map.queryRenderedFeatures(e.point, { layers: [&quot;pxlayer&quot;] });\n",
       "        if (fs &amp;&amp; fs.length) {\n",
       "            var f = fs[0];\n",
       "            console.log(&quot;clicked&quot;, f);\n",
       "            var keylength = Object.keys(f.properties).length;\n",
       "            var payload = {type:&quot;select&quot;, targetDivId: &quot;&quot; };\n",
       "\n",
       "            for (var key in f.properties) {\n",
       "                payload[key] = f.properties[key];\n",
       "            }\n",
       "\n",
       "            if (window.triggerPDEvent) {\n",
       "                window.triggerPDEvent(payload);\n",
       "            }\n",
       "        }\n",
       "    });\n",
       "        \n",
       "    map.on(&quot;load&quot;, function() {\n",
       "        \n",
       "        mapdata={&quot;type&quot;: &quot;FeatureCollection&quot;, &quot;features&quot;: [{&quot;geometry&quot;: {&quot;type&quot;: &quot;Point&quot;, &quot;coordinates&quot;: [102.0546, 6.2594]}, &quot;type&quot;: &quot;Feature&quot;, &quot;properties&quot;: {&quot;pd_count&quot;: 1, &quot;country&quot;: &quot;Thailand&quot;, &quot;region&quot;: &quot;South-Eastern Asia&quot;, &quot;event_type&quot;: &quot;Battle-No change of territory&quot;, &quot;actor1&quot;: &quot;Military Forces of Thailand (2014-) Volunteer Defense Corps&quot;}}, {&quot;geometry&quot;: {&quot;type&quot;: &quot;Point&quot;, &quot;coordinates&quot;: [101.6153, 6.601]}, &quot;type&quot;: &quot;Feature&quot;, &quot;properties&quot;: {&quot;pd_count&quot;: 1, &quot;country&quot;: &quot;Thailand&quot;, &quot;region&quot;: &quot;South-Eastern Asia&quot;, &quot;event_type&quot;: &quot;Violence against civilians&quot;, &quot;actor1&quot;: &quot;Southern Muslim Separatists (Thailand)&quot;}}, {&quot;geometry&quot;: {&quot;type&quot;: &quot;Point&quot;, &quot;coordinates&quot;: [124.5, 6.9667]}, &quot;type&quot;: &quot;Feature&quot;, &quot;properties&quot;: {&quot;pd_count&quot;: 5, &quot;country&quot;: &quot;Philippines&quot;, &quot;region&quot;: &quot;South-Eastern Asia&quot;, &quot;event_type&quot;: &quot;Battle-No change of territory&quot;, &quot;actor1&quot;: &quot;BIFF: Bangsamoro Islamic Freedom Fighters&quot;}}, {&quot;geometry&quot;: {&quot;type&quot;: &quot;Point&quot;, &quot;coordinates&quot;: [98.9105, 8.0725]}, &quot;type&quot;: &quot;Feature&quot;, &quot;properties&quot;: {&quot;pd_count&quot;: 6, &quot;country&quot;: &quot;Thailand&quot;, &quot;region&quot;: &quot;South-Eastern Asia&quot;, &quot;event_type&quot;: &quot;Riots/Protests&quot;, &quot;actor1&quot;: &quot;Protesters (Thailand)&quot;}}, {&quot;geometry&quot;: {&quot;type&quot;: &quot;Point&quot;, &quot;coordinates&quot;: [76.874, 8.5672]}, &quot;type&quot;: &quot;Feature&quot;, &quot;properties&quot;: {&quot;pd_count&quot;: 1, &quot;country&quot;: &quot;India&quot;, &quot;region&quot;: &quot;Southern Asia&quot;, &quot;event_type&quot;: &quot;Riots/Protests&quot;, &quot;actor1&quot;: &quot;Protesters (India)&quot;}}, {&quot;geometry&quot;: {&quot;type&quot;: &quot;Point&quot;, &quot;coordinates&quot;: [123.158, 9.5162]}, &quot;type&quot;: &quot;Feature&quot;, &quot;properties&quot;: {&quot;pd_count&quot;: 1, &quot;country&quot;: &quot;Philippines&quot;, &quot;region&quot;: &quot;South-Eastern Asia&quot;, &quot;event_type&quot;: &quot;Violence against civilians&quot;, &quot;actor1&quot;: &quot;Police Forces of the Philippines (1987-)&quot;}}, {&quot;geometry&quot;: {&quot;type&quot;: &quot;Point&quot;, &quot;coordinates&quot;: [79.6833, 9.5167]}, &quot;type&quot;: &quot;Feature&quot;, &quot;properties&quot;: {&quot;pd_count&quot;: 1, &quot;country&quot;: &quot;Sri Lanka&quot;, &quot;region&quot;: &quot;Southern Asia&quot;, &quot;event_type&quot;: &quot;Violence against civilians&quot;, &quot;actor1&quot;: &quot;Unidentified Armed Group (Sri Lanka)&quot;}}, {&quot;geometry&quot;: {&quot;type&quot;: &quot;Point&quot;, &quot;coordinates&quot;: [123.9367, 10.3671]}, &quot;type&quot;: &quot;Feature&quot;, &quot;properties&quot;: {&quot;pd_count&quot;: 1, &quot;country&quot;: &quot;Philippines&quot;, &quot;region&quot;: &quot;South-Eastern Asia&quot;, &quot;event_type&quot;: &quot;Violence against civilians&quot;, &quot;actor1&quot;: &quot;Anti-Drug Vigilantes (Philippines)&quot;}}, {&quot;geometry&quot;: {&quot;type&quot;: &quot;Point&quot;, &quot;coordinates&quot;: [122.9666, 10.7375]}, &quot;type&quot;: &quot;Feature&quot;, &quot;properties&quot;: {&quot;pd_count&quot;: 2, &quot;country&quot;: &quot;Philippines&quot;, &quot;region&quot;: &quot;South-Eastern Asia&quot;, &quot;event_type&quot;: &quot;Violence against civilians&quot;, &quot;actor1&quot;: &quot;Unidentified Armed Group (Philippines)&quot;}}, {&quot;geometry&quot;: {&quot;type&quot;: &quot;Point&quot;, &quot;coordinates&quot;: [106.0206, 10.9556]}, &quot;type&quot;: &quot;Feature&quot;, &quot;properties&quot;: {&quot;pd_count&quot;: 1, &quot;country&quot;: &quot;Cambodia&quot;, &quot;region&quot;: &quot;South-Eastern Asia&quot;, &quot;event_type&quot;: &quot;Riots/Protests&quot;, &quot;actor1&quot;: &quot;Rioters (Cambodia)&quot;}}, {&quot;geometry&quot;: {&quot;type&quot;: &quot;Point&quot;, &quot;coordinates&quot;: [105.0747, 12.0568]}, &quot;type&quot;: &quot;Feature&quot;, &quot;properties&quot;: {&quot;pd_count&quot;: 1, &quot;country&quot;: &quot;Cambodia&quot;, &quot;region&quot;: &quot;South-Eastern Asia&quot;, &quot;event_type&quot;: &quot;Riots/Protests&quot;, &quot;actor1&quot;: &quot;Rioters (Cambodia)&quot;}}, {&quot;geometry&quot;: {&quot;type&quot;: &quot;Point&quot;, &quot;coordinates&quot;: [123.6263, 12.3628]}, &quot;type&quot;: &quot;Feature&quot;, &quot;properties&quot;: {&quot;pd_count&quot;: 1, &quot;country&quot;: &quot;Philippines&quot;, &quot;region&quot;: &quot;South-Eastern Asia&quot;, &quot;event_type&quot;: &quot;Violence against civilians&quot;, &quot;actor1&quot;: &quot;Unidentified Armed Group (Philippines)&quot;}}, {&quot;geometry&quot;: {&quot;type&quot;: &quot;Point&quot;, &quot;coordinates&quot;: [79.8169, 12.4027]}, &quot;type&quot;: &quot;Feature&quot;, &quot;properties&quot;: {&quot;pd_count&quot;: 2, &quot;country&quot;: &quot;India&quot;, &quot;region&quot;: &quot;Southern Asia&quot;, &quot;event_type&quot;: &quot;Riots/Protests&quot;, &quot;actor1&quot;: &quot;Protesters (India)&quot;}}, {&quot;geometry&quot;: {&quot;type&quot;: &quot;Point&quot;, &quot;coordinates&quot;: [76.6853, 12.4226]}, &quot;type&quot;: &quot;Feature&quot;, &quot;properties&quot;: {&quot;pd_count&quot;: 1, &quot;country&quot;: &quot;India&quot;, &quot;region&quot;: &quot;Southern Asia&quot;, &quot;event_type&quot;: &quot;Riots/Protests&quot;, &quot;actor1&quot;: &quot;Protesters (India)&quot;}}, {&quot;geometry&quot;: {&quot;type&quot;: &quot;Point&quot;, &quot;coordinates&quot;: [45.0024, 12.7899]}, &quot;type&quot;: &quot;Feature&quot;, &quot;properties&quot;: {&quot;pd_count&quot;: 1, &quot;country&quot;: &quot;Yemen&quot;, &quot;region&quot;: &quot;Middle East&quot;, &quot;event_type&quot;: &quot;Riots/Protests&quot;, &quot;actor1&quot;: &quot;Police Forces of Yemen (2012-)&quot;}}, {&quot;geometry&quot;: {&quot;type&quot;: &quot;Point&quot;, &quot;coordinates&quot;: [44.9844, 12.887]}, &quot;type&quot;: &quot;Feature&quot;, &quot;properties&quot;: {&quot;pd_count&quot;: 1, &quot;country&quot;: &quot;Yemen&quot;, &quot;region&quot;: &quot;Middle East&quot;, &quot;event_type&quot;: &quot;Violence against civilians&quot;, &quot;actor1&quot;: &quot;Military Forces of Yemen (2012-) Security Belt Forces&quot;}}, {&quot;geometry&quot;: {&quot;type&quot;: &quot;Point&quot;, &quot;coordinates&quot;: [78.9829, 12.891]}, &quot;type&quot;: &quot;Feature&quot;, &quot;properties&quot;: {&quot;pd_count&quot;: 1, &quot;country&quot;: &quot;India&quot;, &quot;region&quot;: &quot;Southern Asia&quot;, &quot;event_type&quot;: &quot;Riots/Protests&quot;, &quot;actor1&quot;: &quot;Protesters (India)&quot;}}, {&quot;geometry&quot;: {&quot;type&quot;: &quot;Point&quot;, &quot;coordinates&quot;: [43.4786, 13.038]}, &quot;type&quot;: &quot;Feature&quot;, &quot;properties&quot;: {&quot;pd_count&quot;: 1, &quot;country&quot;: &quot;Yemen&quot;, &quot;region&quot;: &quot;Middle East&quot;, &quot;event_type&quot;: &quot;Remote violence&quot;, &quot;actor1&quot;: &quot;Military Forces of Yemen (2015-2016) Supreme Revolutionary Committee&quot;}}, {&quot;geometry&quot;: {&quot;type&quot;: &quot;Point&quot;, &quot;coordinates&quot;: [123.2636, 13.3078]}, &quot;type&quot;: &quot;Feature&quot;, &quot;properties&quot;: {&quot;pd_count&quot;: 1, &quot;country&quot;: &quot;Philippines&quot;, &quot;region&quot;: &quot;South-Eastern Asia&quot;, &quot;event_type&quot;: &quot;Battle-No change of territory&quot;, &quot;actor1&quot;: &quot;NPA: New People's Army&quot;}}, {&quot;geometry&quot;: {&quot;type&quot;: &quot;Point&quot;, &quot;coordinates&quot;: [44.0736, 13.5342]}, &quot;type&quot;: &quot;Feature&quot;, &quot;properties&quot;: {&quot;pd_count&quot;: 1, &quot;country&quot;: &quot;Yemen&quot;, &quot;region&quot;: &quot;Middle East&quot;, &quot;event_type&quot;: &quot;Battle-Government regains territory&quot;, &quot;actor1&quot;: &quot;Military Forces of Yemen (2016-) Supreme Political Council&quot;}}, {&quot;geometry&quot;: {&quot;type&quot;: &quot;Point&quot;, &quot;coordinates&quot;: [99.8171, 13.5367]}, &quot;type&quot;: &quot;Feature&quot;, &quot;properties&quot;: {&quot;pd_count&quot;: 1, &quot;country&quot;: &quot;Thailand&quot;, &quot;region&quot;: &quot;South-Eastern Asia&quot;, &quot;event_type&quot;: &quot;Riots/Protests&quot;, &quot;actor1&quot;: &quot;Protesters (Myanmar)&quot;}}, {&quot;geometry&quot;: {&quot;type&quot;: &quot;Point&quot;, &quot;coordinates&quot;: [44.7314, 13.6957]}, &quot;type&quot;: &quot;Feature&quot;, &quot;properties&quot;: {&quot;pd_count&quot;: 1, &quot;country&quot;: &quot;Yemen&quot;, &quot;region&quot;: &quot;Middle East&quot;, &quot;event_type&quot;: &quot;Strategic development&quot;, &quot;actor1&quot;: &quot;Unidentified Armed Group (Yemen)&quot;}}, {&quot;geometry&quot;: {&quot;type&quot;: &quot;Point&quot;, &quot;coordinates&quot;: [45.6521, 14.0482]}, &quot;type&quot;: &quot;Feature&quot;, &quot;properties&quot;: {&quot;pd_count&quot;: 1, &quot;country&quot;: &quot;Yemen&quot;, &quot;region&quot;: &quot;Middle East&quot;, &quot;event_type&quot;: &quot;Battle-Non-state actor overtakes territory&quot;, &quot;actor1&quot;: &quot;Popular Resistance&quot;}}, {&quot;geometry&quot;: {&quot;type&quot;: &quot;Point&quot;, &quot;coordinates&quot;: [49.1479, 14.5226]}, &quot;type&quot;: &quot;Feature&quot;, &quot;properties&quot;: {&quot;pd_count&quot;: 1, &quot;country&quot;: &quot;Yemen&quot;, &quot;region&quot;: &quot;Middle East&quot;, &quot;event_type&quot;: &quot;Battle-No change of territory&quot;, &quot;actor1&quot;: &quot;AQAP: Al Qaeda in the Arabian Peninsula&quot;}}, {&quot;geometry&quot;: {&quot;type&quot;: &quot;Point&quot;, &quot;coordinates&quot;: [45.7189, 14.8007]}, &quot;type&quot;: &quot;Feature&quot;, &quot;properties&quot;: {&quot;pd_count&quot;: 3, &quot;country&quot;: &quot;Yemen&quot;, &quot;region&quot;: &quot;Middle East&quot;, &quot;event_type&quot;: &quot;Battle-No change of territory&quot;, &quot;actor1&quot;: &quot;Military Forces of Yemen (2016-) Supreme Political Council&quot;}}, {&quot;geometry&quot;: {&quot;type&quot;: &quot;Point&quot;, &quot;coordinates&quot;: [45.7189, 14.8007]}, &quot;type&quot;: &quot;Feature&quot;, &quot;properties&quot;: {&quot;pd_count&quot;: 3, &quot;country&quot;: &quot;Yemen&quot;, &quot;region&quot;: &quot;Middle East&quot;, &quot;event_type&quot;: &quot;Remote violence&quot;, &quot;actor1&quot;: &quot;Military Forces of United States&quot;}}, {&quot;geometry&quot;: {&quot;type&quot;: &quot;Point&quot;, &quot;coordinates&quot;: [121.0267, 14.8047]}, &quot;type&quot;: &quot;Feature&quot;, &quot;properties&quot;: {&quot;pd_count&quot;: 3, &quot;country&quot;: &quot;Philippines&quot;, &quot;region&quot;: &quot;South-Eastern Asia&quot;, &quot;event_type&quot;: &quot;Violence against civilians&quot;, &quot;actor1&quot;: &quot;Police Forces of the Philippines (1987-)&quot;}}, {&quot;geometry&quot;: {&quot;type&quot;: &quot;Point&quot;, &quot;coordinates&quot;: [103.1039, 14.9943]}, &quot;type&quot;: &quot;Feature&quot;, &quot;properties&quot;: {&quot;pd_count&quot;: 3, &quot;country&quot;: &quot;Thailand&quot;, &quot;region&quot;: &quot;South-Eastern Asia&quot;, &quot;event_type&quot;: &quot;Riots/Protests&quot;, &quot;actor1&quot;: &quot;Protesters (Thailand)&quot;}}, {&quot;geometry&quot;: {&quot;type&quot;: &quot;Point&quot;, &quot;coordinates&quot;: [44.2764, 15.0702]}, &quot;type&quot;: &quot;Feature&quot;, &quot;properties&quot;: {&quot;pd_count&quot;: 25, &quot;country&quot;: &quot;Yemen&quot;, &quot;region&quot;: &quot;Middle East&quot;, &quot;event_type&quot;: &quot;Remote violence&quot;, &quot;actor1&quot;: &quot;Operation Restoring Hope&quot;}}, {&quot;geometry&quot;: {&quot;type&quot;: &quot;Point&quot;, &quot;coordinates&quot;: [44.1242, 16.9192]}, &quot;type&quot;: &quot;Feature&quot;, &quot;properties&quot;: {&quot;pd_count&quot;: 1, &quot;country&quot;: &quot;Yemen&quot;, &quot;region&quot;: &quot;Middle East&quot;, &quot;event_type&quot;: &quot;Remote violence&quot;, &quot;actor1&quot;: &quot;Operation Restoring Hope&quot;}}, {&quot;geometry&quot;: {&quot;type&quot;: &quot;Point&quot;, &quot;coordinates&quot;: [44.02, 17.4046]}, &quot;type&quot;: &quot;Feature&quot;, &quot;properties&quot;: {&quot;pd_count&quot;: 105, &quot;country&quot;: &quot;Saudi Arabia&quot;, &quot;region&quot;: &quot;Middle East&quot;, &quot;event_type&quot;: &quot;Remote violence&quot;, &quot;actor1&quot;: &quot;Military Forces of Yemen (2016-) Supreme Political Council&quot;}}, {&quot;geometry&quot;: {&quot;type&quot;: &quot;Point&quot;, &quot;coordinates&quot;: [96.1297, 19.745]}, &quot;type&quot;: &quot;Feature&quot;, &quot;properties&quot;: {&quot;pd_count&quot;: 2, &quot;country&quot;: &quot;Myanmar&quot;, &quot;region&quot;: &quot;South-Eastern Asia&quot;, &quot;event_type&quot;: &quot;Strategic development&quot;, &quot;actor1&quot;: &quot;Government of Myanmar (2016-)&quot;}}, {&quot;geometry&quot;: {&quot;type&quot;: &quot;Point&quot;, &quot;coordinates&quot;: [86.9927, 22.4371]}, &quot;type&quot;: &quot;Feature&quot;, &quot;properties&quot;: {&quot;pd_count&quot;: 1, &quot;country&quot;: &quot;India&quot;, &quot;region&quot;: &quot;Southern Asia&quot;, &quot;event_type&quot;: &quot;Riots/Protests&quot;, &quot;actor1&quot;: &quot;Rioters (India)&quot;}}, {&quot;geometry&quot;: {&quot;type&quot;: &quot;Point&quot;, &quot;coordinates&quot;: [91.6578, 22.62]}, &quot;type&quot;: &quot;Feature&quot;, &quot;properties&quot;: {&quot;pd_count&quot;: 1, &quot;country&quot;: &quot;Bangladesh&quot;, &quot;region&quot;: &quot;Southern Asia&quot;, &quot;event_type&quot;: &quot;Battle-No change of territory&quot;, &quot;actor1&quot;: &quot;Unidentified Armed Group (Bangladesh)&quot;}}, {&quot;geometry&quot;: {&quot;type&quot;: &quot;Point&quot;, &quot;coordinates&quot;: [89.4952, 23.1551]}, &quot;type&quot;: &quot;Feature&quot;, &quot;properties&quot;: {&quot;pd_count&quot;: 1, &quot;country&quot;: &quot;Bangladesh&quot;, &quot;region&quot;: &quot;Southern Asia&quot;, &quot;event_type&quot;: &quot;Violence against civilians&quot;, &quot;actor1&quot;: &quot;Unidentified Armed Group (Bangladesh)&quot;}}, {&quot;geometry&quot;: {&quot;type&quot;: &quot;Point&quot;, &quot;coordinates&quot;: [77.4028, 23.2546]}, &quot;type&quot;: &quot;Feature&quot;, &quot;properties&quot;: {&quot;pd_count&quot;: 83, &quot;country&quot;: &quot;India&quot;, &quot;region&quot;: &quot;Southern Asia&quot;, &quot;event_type&quot;: &quot;Riots/Protests&quot;, &quot;actor1&quot;: &quot;Protesters (India)&quot;}}, {&quot;geometry&quot;: {&quot;type&quot;: &quot;Point&quot;, &quot;coordinates&quot;: [88.4051, 23.5307]}, &quot;type&quot;: &quot;Feature&quot;, &quot;properties&quot;: {&quot;pd_count&quot;: 1, &quot;country&quot;: &quot;India&quot;, &quot;region&quot;: &quot;Southern Asia&quot;, &quot;event_type&quot;: &quot;Riots/Protests&quot;, &quot;actor1&quot;: &quot;Protesters (India)&quot;}}, {&quot;geometry&quot;: {&quot;type&quot;: &quot;Point&quot;, &quot;coordinates&quot;: [90.4008, 23.7354]}, &quot;type&quot;: &quot;Feature&quot;, &quot;properties&quot;: {&quot;pd_count&quot;: 1, &quot;country&quot;: &quot;Bangladesh&quot;, &quot;region&quot;: &quot;Southern Asia&quot;, &quot;event_type&quot;: &quot;Riots/Protests&quot;, &quot;actor1&quot;: &quot;Protesters (Bangladesh)&quot;}}, {&quot;geometry&quot;: {&quot;type&quot;: &quot;Point&quot;, &quot;coordinates&quot;: [68.3736, 25.3942]}, &quot;type&quot;: &quot;Feature&quot;, &quot;properties&quot;: {&quot;pd_count&quot;: 4, &quot;country&quot;: &quot;Pakistan&quot;, &quot;region&quot;: &quot;Southern Asia&quot;, &quot;event_type&quot;: &quot;Riots/Protests&quot;, &quot;actor1&quot;: &quot;Police Forces of Pakistan (2008-)&quot;}}, {&quot;geometry&quot;: {&quot;type&quot;: &quot;Point&quot;, &quot;coordinates&quot;: [49.5667, 25.4167]}, &quot;type&quot;: &quot;Feature&quot;, &quot;properties&quot;: {&quot;pd_count&quot;: 1, &quot;country&quot;: &quot;Saudi Arabia&quot;, &quot;region&quot;: &quot;Middle East&quot;, &quot;event_type&quot;: &quot;Violence against civilians&quot;, &quot;actor1&quot;: &quot;Unidentified Armed Group (Saudi Arabia)&quot;}}, {&quot;geometry&quot;: {&quot;type&quot;: &quot;Point&quot;, &quot;coordinates&quot;: [86.748, 26.5397]}, &quot;type&quot;: &quot;Feature&quot;, &quot;properties&quot;: {&quot;pd_count&quot;: 3, &quot;country&quot;: &quot;Nepal&quot;, &quot;region&quot;: &quot;Southern Asia&quot;, &quot;event_type&quot;: &quot;Strategic development&quot;, &quot;actor1&quot;: &quot;Military Forces of Nepal (2008-)&quot;}}, {&quot;geometry&quot;: {&quot;type&quot;: &quot;Point&quot;, &quot;coordinates&quot;: [87.7827, 26.6362]}, &quot;type&quot;: &quot;Feature&quot;, &quot;properties&quot;: {&quot;pd_count&quot;: 2, &quot;country&quot;: &quot;Nepal&quot;, &quot;region&quot;: &quot;Southern Asia&quot;, &quot;event_type&quot;: &quot;Riots/Protests&quot;, &quot;actor1&quot;: &quot;Rioters (Nepal)&quot;}}, {&quot;geometry&quot;: {&quot;type&quot;: &quot;Point&quot;, &quot;coordinates&quot;: [85.8002, 26.6492]}, &quot;type&quot;: &quot;Feature&quot;, &quot;properties&quot;: {&quot;pd_count&quot;: 1, &quot;country&quot;: &quot;Nepal&quot;, &quot;region&quot;: &quot;Southern Asia&quot;, &quot;event_type&quot;: &quot;Strategic development&quot;, &quot;actor1&quot;: &quot;Civilians (Nepal)&quot;}}, {&quot;geometry&quot;: {&quot;type&quot;: &quot;Point&quot;, &quot;coordinates&quot;: [68.2141, 27.5549]}, &quot;type&quot;: &quot;Feature&quot;, &quot;properties&quot;: {&quot;pd_count&quot;: 1, &quot;country&quot;: &quot;Pakistan&quot;, &quot;region&quot;: &quot;Southern Asia&quot;, &quot;event_type&quot;: &quot;Violence against civilians&quot;, &quot;actor1&quot;: &quot;Civilians (Pakistan)&quot;}}, {&quot;geometry&quot;: {&quot;type&quot;: &quot;Point&quot;, &quot;coordinates&quot;: [84.5731, 27.605]}, &quot;type&quot;: &quot;Feature&quot;, &quot;properties&quot;: {&quot;pd_count&quot;: 1, &quot;country&quot;: &quot;Nepal&quot;, &quot;region&quot;: &quot;Southern Asia&quot;, &quot;event_type&quot;: &quot;Riots/Protests&quot;, &quot;actor1&quot;: &quot;Protesters (Nepal)&quot;}}, {&quot;geometry&quot;: {&quot;type&quot;: &quot;Point&quot;, &quot;coordinates&quot;: [67.875, 27.8388]}, &quot;type&quot;: &quot;Feature&quot;, &quot;properties&quot;: {&quot;pd_count&quot;: 1, &quot;country&quot;: &quot;Pakistan&quot;, &quot;region&quot;: &quot;Southern Asia&quot;, &quot;event_type&quot;: &quot;Remote violence&quot;, &quot;actor1&quot;: &quot;Unidentified Armed Group (Pakistan)&quot;}}, {&quot;geometry&quot;: {&quot;type&quot;: &quot;Point&quot;, &quot;coordinates&quot;: [81.6339, 28.6019]}, &quot;type&quot;: &quot;Feature&quot;, &quot;properties&quot;: {&quot;pd_count&quot;: 10, &quot;country&quot;: &quot;Nepal&quot;, &quot;region&quot;: &quot;Southern Asia&quot;, &quot;event_type&quot;: &quot;Riots/Protests&quot;, &quot;actor1&quot;: &quot;Protesters (Nepal)&quot;}}, {&quot;geometry&quot;: {&quot;type&quot;: &quot;Point&quot;, &quot;coordinates&quot;: [47.9783, 29.3697]}, &quot;type&quot;: &quot;Feature&quot;, &quot;properties&quot;: {&quot;pd_count&quot;: 1, &quot;country&quot;: &quot;Kuwait&quot;, &quot;region&quot;: &quot;Middle East&quot;, &quot;event_type&quot;: &quot;Strategic development&quot;, &quot;actor1&quot;: &quot;Police Forces of Kuwait (2006-)&quot;}}, {&quot;geometry&quot;: {&quot;type&quot;: &quot;Point&quot;, &quot;coordinates&quot;: [73.2281, 30.2591]}, &quot;type&quot;: &quot;Feature&quot;, &quot;properties&quot;: {&quot;pd_count&quot;: 1, &quot;country&quot;: &quot;Pakistan&quot;, &quot;region&quot;: &quot;Southern Asia&quot;, &quot;event_type&quot;: &quot;Violence against civilians&quot;, &quot;actor1&quot;: &quot;Unidentified Armed Group (Pakistan)&quot;}}, {&quot;geometry&quot;: {&quot;type&quot;: &quot;Point&quot;, &quot;coordinates&quot;: [75.248, 30.7762]}, &quot;type&quot;: &quot;Feature&quot;, &quot;properties&quot;: {&quot;pd_count&quot;: 1, &quot;country&quot;: &quot;India&quot;, &quot;region&quot;: &quot;Southern Asia&quot;, &quot;event_type&quot;: &quot;Riots/Protests&quot;, &quot;actor1&quot;: &quot;Protesters (India)&quot;}}, {&quot;geometry&quot;: {&quot;type&quot;: &quot;Point&quot;, &quot;coordinates&quot;: [75.8537, 30.912]}, &quot;type&quot;: &quot;Feature&quot;, &quot;properties&quot;: {&quot;pd_count&quot;: 1, &quot;country&quot;: &quot;India&quot;, &quot;region&quot;: &quot;Southern Asia&quot;, &quot;event_type&quot;: &quot;Battle-No change of territory&quot;, &quot;actor1&quot;: &quot;SAD: Shiromani Akali Dal&quot;}}, {&quot;geometry&quot;: {&quot;type&quot;: &quot;Point&quot;, &quot;coordinates&quot;: [75.8537, 30.912]}, &quot;type&quot;: &quot;Feature&quot;, &quot;properties&quot;: {&quot;pd_count&quot;: 8, &quot;country&quot;: &quot;India&quot;, &quot;region&quot;: &quot;Southern Asia&quot;, &quot;event_type&quot;: &quot;Violence against civilians&quot;, &quot;actor1&quot;: &quot;Unidentified Armed Group (India)&quot;}}, {&quot;geometry&quot;: {&quot;type&quot;: &quot;Point&quot;, &quot;coordinates&quot;: [75.0387, 31.4854]}, &quot;type&quot;: &quot;Feature&quot;, &quot;properties&quot;: {&quot;pd_count&quot;: 1, &quot;country&quot;: &quot;India&quot;, &quot;region&quot;: &quot;Southern Asia&quot;, &quot;event_type&quot;: &quot;Riots/Protests&quot;, &quot;actor1&quot;: &quot;Protesters (India)&quot;}}, {&quot;geometry&quot;: {&quot;type&quot;: &quot;Point&quot;, &quot;coordinates&quot;: [65.7101, 31.6133]}, &quot;type&quot;: &quot;Feature&quot;, &quot;properties&quot;: {&quot;pd_count&quot;: 2, &quot;country&quot;: &quot;Afghanistan&quot;, &quot;region&quot;: &quot;Southern Asia&quot;, &quot;event_type&quot;: &quot;Violence against civilians&quot;, &quot;actor1&quot;: &quot;Taliban&quot;}}, {&quot;geometry&quot;: {&quot;type&quot;: &quot;Point&quot;, &quot;coordinates&quot;: [34.9706, 32.1897]}, &quot;type&quot;: &quot;Feature&quot;, &quot;properties&quot;: {&quot;pd_count&quot;: 1, &quot;country&quot;: &quot;Palestine&quot;, &quot;region&quot;: &quot;Middle East&quot;, &quot;event_type&quot;: &quot;Strategic development&quot;, &quot;actor1&quot;: &quot;Police Forces of Palestine (1994-) West Bank&quot;}}, {&quot;geometry&quot;: {&quot;type&quot;: &quot;Point&quot;, &quot;coordinates&quot;: [74.1376, 32.1934]}, &quot;type&quot;: &quot;Feature&quot;, &quot;properties&quot;: {&quot;pd_count&quot;: 1, &quot;country&quot;: &quot;Pakistan&quot;, &quot;region&quot;: &quot;Southern Asia&quot;, &quot;event_type&quot;: &quot;Battle-No change of territory&quot;, &quot;actor1&quot;: &quot;PML-N: Pakistan Muslim League-Nawaz&quot;}}, {&quot;geometry&quot;: {&quot;type&quot;: &quot;Point&quot;, &quot;coordinates&quot;: [70.3777, 32.2147]}, &quot;type&quot;: &quot;Feature&quot;, &quot;properties&quot;: {&quot;pd_count&quot;: 3, &quot;country&quot;: &quot;Pakistan&quot;, &quot;region&quot;: &quot;Southern Asia&quot;, &quot;event_type&quot;: &quot;Violence against civilians&quot;, &quot;actor1&quot;: &quot;Unidentified Armed Group (Pakistan)&quot;}}, {&quot;geometry&quot;: {&quot;type&quot;: &quot;Point&quot;, &quot;coordinates&quot;: [35.1447, 32.2216]}, &quot;type&quot;: &quot;Feature&quot;, &quot;properties&quot;: {&quot;pd_count&quot;: 1, &quot;country&quot;: &quot;Palestine&quot;, &quot;region&quot;: &quot;Middle East&quot;, &quot;event_type&quot;: &quot;Violence against civilians&quot;, &quot;actor1&quot;: &quot;Protesters (Palestine)&quot;}}, {&quot;geometry&quot;: {&quot;type&quot;: &quot;Point&quot;, &quot;coordinates&quot;: [44.55, 32.35]}, &quot;type&quot;: &quot;Feature&quot;, &quot;properties&quot;: {&quot;pd_count&quot;: 1, &quot;country&quot;: &quot;Iraq&quot;, &quot;region&quot;: &quot;Middle East&quot;, &quot;event_type&quot;: &quot;Battle-No change of territory&quot;, &quot;actor1&quot;: &quot;Military Forces of Iraq (2014-)&quot;}}, {&quot;geometry&quot;: {&quot;type&quot;: &quot;Point&quot;, &quot;coordinates&quot;: [62.1164, 32.3745]}, &quot;type&quot;: &quot;Feature&quot;, &quot;properties&quot;: {&quot;pd_count&quot;: 3, &quot;country&quot;: &quot;Afghanistan&quot;, &quot;region&quot;: &quot;Southern Asia&quot;, &quot;event_type&quot;: &quot;Remote violence&quot;, &quot;actor1&quot;: &quot;NATO: North Atlantic Treaty Organization&quot;}}, {&quot;geometry&quot;: {&quot;type&quot;: &quot;Point&quot;, &quot;coordinates&quot;: [36.4779, 32.5146]}, &quot;type&quot;: &quot;Feature&quot;, &quot;properties&quot;: {&quot;pd_count&quot;: 1, &quot;country&quot;: &quot;Syria&quot;, &quot;region&quot;: &quot;Middle East&quot;, &quot;event_type&quot;: &quot;Strategic development&quot;, &quot;actor1&quot;: &quot;Opposition Rebels (Syria)&quot;}}, {&quot;geometry&quot;: {&quot;type&quot;: &quot;Point&quot;, &quot;coordinates&quot;: [36.0673, 32.7362]}, &quot;type&quot;: &quot;Feature&quot;, &quot;properties&quot;: {&quot;pd_count&quot;: 3, &quot;country&quot;: &quot;Syria&quot;, &quot;region&quot;: &quot;Middle East&quot;, &quot;event_type&quot;: &quot;Remote violence&quot;, &quot;actor1&quot;: &quot;Military Forces of Russia&quot;}}, {&quot;geometry&quot;: {&quot;type&quot;: &quot;Point&quot;, &quot;coordinates&quot;: [36.3853, 32.8885]}, &quot;type&quot;: &quot;Feature&quot;, &quot;properties&quot;: {&quot;pd_count&quot;: 2, &quot;country&quot;: &quot;Syria&quot;, &quot;region&quot;: &quot;Middle East&quot;, &quot;event_type&quot;: &quot;Remote violence&quot;, &quot;actor1&quot;: &quot;Unidentified Armed Group (Syria)&quot;}}, {&quot;geometry&quot;: {&quot;type&quot;: &quot;Point&quot;, &quot;coordinates&quot;: [36.0068, 33.0569]}, &quot;type&quot;: &quot;Feature&quot;, &quot;properties&quot;: {&quot;pd_count&quot;: 1, &quot;country&quot;: &quot;Syria&quot;, &quot;region&quot;: &quot;Middle East&quot;, &quot;event_type&quot;: &quot;Strategic development&quot;, &quot;actor1&quot;: &quot;Opposition Rebels (Syria)&quot;}}, {&quot;geometry&quot;: {&quot;type&quot;: &quot;Point&quot;, &quot;coordinates&quot;: [74.2537, 33.4732]}, &quot;type&quot;: &quot;Feature&quot;, &quot;properties&quot;: {&quot;pd_count&quot;: 8, &quot;country&quot;: &quot;India&quot;, &quot;region&quot;: &quot;Southern Asia&quot;, &quot;event_type&quot;: &quot;Battle-No change of territory&quot;, &quot;actor1&quot;: &quot;Military Forces of India (1949-)&quot;}}, {&quot;geometry&quot;: {&quot;type&quot;: &quot;Point&quot;, &quot;coordinates&quot;: [36.3836, 33.5283]}, &quot;type&quot;: &quot;Feature&quot;, &quot;properties&quot;: {&quot;pd_count&quot;: 2, &quot;country&quot;: &quot;Syria&quot;, &quot;region&quot;: &quot;Middle East&quot;, &quot;event_type&quot;: &quot;Strategic development&quot;, &quot;actor1&quot;: &quot;Military Forces of Syria (2000-)&quot;}}, {&quot;geometry&quot;: {&quot;type&quot;: &quot;Point&quot;, &quot;coordinates&quot;: [36.329, 33.6653]}, &quot;type&quot;: &quot;Feature&quot;, &quot;properties&quot;: {&quot;pd_count&quot;: 127, &quot;country&quot;: &quot;Syria&quot;, &quot;region&quot;: &quot;Middle East&quot;, &quot;event_type&quot;: &quot;Violence against civilians&quot;, &quot;actor1&quot;: &quot;Military Forces of Syria (2000-)&quot;}}, {&quot;geometry&quot;: {&quot;type&quot;: &quot;Point&quot;, &quot;coordinates&quot;: [75.1647, 33.6804]}, &quot;type&quot;: &quot;Feature&quot;, &quot;properties&quot;: {&quot;pd_count&quot;: 1, &quot;country&quot;: &quot;India&quot;, &quot;region&quot;: &quot;Southern Asia&quot;, &quot;event_type&quot;: &quot;Violence against civilians&quot;, &quot;actor1&quot;: &quot;Unidentified Armed Group (India)&quot;}}, {&quot;geometry&quot;: {&quot;type&quot;: &quot;Point&quot;, &quot;coordinates&quot;: [69.9778, 33.7317]}, &quot;type&quot;: &quot;Feature&quot;, &quot;properties&quot;: {&quot;pd_count&quot;: 2, &quot;country&quot;: &quot;Afghanistan&quot;, &quot;region&quot;: &quot;Southern Asia&quot;, &quot;event_type&quot;: &quot;Remote violence&quot;, &quot;actor1&quot;: &quot;NATO: North Atlantic Treaty Organization&quot;}}, {&quot;geometry&quot;: {&quot;type&quot;: &quot;Point&quot;, &quot;coordinates&quot;: [74.7919, 33.7808]}, &quot;type&quot;: &quot;Feature&quot;, &quot;properties&quot;: {&quot;pd_count&quot;: 1, &quot;country&quot;: &quot;India&quot;, &quot;region&quot;: &quot;Southern Asia&quot;, &quot;event_type&quot;: &quot;Riots/Protests&quot;, &quot;actor1&quot;: &quot;Protesters (India)&quot;}}, {&quot;geometry&quot;: {&quot;type&quot;: &quot;Point&quot;, &quot;coordinates&quot;: [70.8213, 33.8972]}, &quot;type&quot;: &quot;Feature&quot;, &quot;properties&quot;: {&quot;pd_count&quot;: 1, &quot;country&quot;: &quot;Pakistan&quot;, &quot;region&quot;: &quot;Southern Asia&quot;, &quot;event_type&quot;: &quot;Remote violence&quot;, &quot;actor1&quot;: &quot;Military Forces of Pakistan (2008-)&quot;}}, {&quot;geometry&quot;: {&quot;type&quot;: &quot;Point&quot;, &quot;coordinates&quot;: [71.7066, 34.1532]}, &quot;type&quot;: &quot;Feature&quot;, &quot;properties&quot;: {&quot;pd_count&quot;: 1, &quot;country&quot;: &quot;Pakistan&quot;, &quot;region&quot;: &quot;Southern Asia&quot;, &quot;event_type&quot;: &quot;Battle-No change of territory&quot;, &quot;actor1&quot;: &quot;Hafiz Jee Qilla Communal Militia (Pakistan)&quot;}}, {&quot;geometry&quot;: {&quot;type&quot;: &quot;Point&quot;, &quot;coordinates&quot;: [74.649, 34.2299]}, &quot;type&quot;: &quot;Feature&quot;, &quot;properties&quot;: {&quot;pd_count&quot;: 1, &quot;country&quot;: &quot;India&quot;, &quot;region&quot;: &quot;Southern Asia&quot;, &quot;event_type&quot;: &quot;Battle-No change of territory&quot;, &quot;actor1&quot;: &quot;LeT: Lashkar-e-Taiba&quot;}}, {&quot;geometry&quot;: {&quot;type&quot;: &quot;Point&quot;, &quot;coordinates&quot;: [74.5699, 34.2789]}, &quot;type&quot;: &quot;Feature&quot;, &quot;properties&quot;: {&quot;pd_count&quot;: 1, &quot;country&quot;: &quot;India&quot;, &quot;region&quot;: &quot;Southern Asia&quot;, &quot;event_type&quot;: &quot;Riots/Protests&quot;, &quot;actor1&quot;: &quot;Rioters (India)&quot;}}, {&quot;geometry&quot;: {&quot;type&quot;: &quot;Point&quot;, &quot;coordinates&quot;: [74.8719, 34.2849]}, &quot;type&quot;: &quot;Feature&quot;, &quot;properties&quot;: {&quot;pd_count&quot;: 1, &quot;country&quot;: &quot;India&quot;, &quot;region&quot;: &quot;Southern Asia&quot;, &quot;event_type&quot;: &quot;Strategic development&quot;, &quot;actor1&quot;: &quot;Police Forces of India (1949-)&quot;}}, {&quot;geometry&quot;: {&quot;type&quot;: &quot;Point&quot;, &quot;coordinates&quot;: [41.1389, 34.3669]}, &quot;type&quot;: &quot;Feature&quot;, &quot;properties&quot;: {&quot;pd_count&quot;: 2, &quot;country&quot;: &quot;Iraq&quot;, &quot;region&quot;: &quot;Middle East&quot;, &quot;event_type&quot;: &quot;Remote violence&quot;, &quot;actor1&quot;: &quot;Unidentified Armed Group (Iraq)&quot;}}, {&quot;geometry&quot;: {&quot;type&quot;: &quot;Point&quot;, &quot;coordinates&quot;: [70.35, 34.4167]}, &quot;type&quot;: &quot;Feature&quot;, &quot;properties&quot;: {&quot;pd_count&quot;: 2, &quot;country&quot;: &quot;Afghanistan&quot;, &quot;region&quot;: &quot;Southern Asia&quot;, &quot;event_type&quot;: &quot;Battle-No change of territory&quot;, &quot;actor1&quot;: &quot;Police Forces of Afghanistan (2004-)&quot;}}, {&quot;geometry&quot;: {&quot;type&quot;: &quot;Point&quot;, &quot;coordinates&quot;: [37.1706, 34.7075]}, &quot;type&quot;: &quot;Feature&quot;, &quot;properties&quot;: {&quot;pd_count&quot;: 1, &quot;country&quot;: &quot;Syria&quot;, &quot;region&quot;: &quot;Middle East&quot;, &quot;event_type&quot;: &quot;Strategic development&quot;, &quot;actor1&quot;: &quot;Military Forces of Syria (2000-)&quot;}}, {&quot;geometry&quot;: {&quot;type&quot;: &quot;Point&quot;, &quot;coordinates&quot;: [70.2846, 34.7411]}, &quot;type&quot;: &quot;Feature&quot;, &quot;properties&quot;: {&quot;pd_count&quot;: 1, &quot;country&quot;: &quot;Afghanistan&quot;, &quot;region&quot;: &quot;Southern Asia&quot;, &quot;event_type&quot;: &quot;Battle-No change of territory&quot;, &quot;actor1&quot;: &quot;Military Forces of Afghanistan (2004-)&quot;}}, {&quot;geometry&quot;: {&quot;type&quot;: &quot;Point&quot;, &quot;coordinates&quot;: [71.5141, 34.9256]}, &quot;type&quot;: &quot;Feature&quot;, &quot;properties&quot;: {&quot;pd_count&quot;: 1, &quot;country&quot;: &quot;Pakistan&quot;, &quot;region&quot;: &quot;Southern Asia&quot;, &quot;event_type&quot;: &quot;Battle-No change of territory&quot;, &quot;actor1&quot;: &quot;Unidentified Armed Group (Afghanistan)&quot;}}, {&quot;geometry&quot;: {&quot;type&quot;: &quot;Point&quot;, &quot;coordinates&quot;: [70.071, 34.9504]}, &quot;type&quot;: &quot;Feature&quot;, &quot;properties&quot;: {&quot;pd_count&quot;: 3, &quot;country&quot;: &quot;Afghanistan&quot;, &quot;region&quot;: &quot;Southern Asia&quot;, &quot;event_type&quot;: &quot;Remote violence&quot;, &quot;actor1&quot;: &quot;Taliban&quot;}}, {&quot;geometry&quot;: {&quot;type&quot;: &quot;Point&quot;, &quot;coordinates&quot;: [40.4155, 35.0582]}, &quot;type&quot;: &quot;Feature&quot;, &quot;properties&quot;: {&quot;pd_count&quot;: 2, &quot;country&quot;: &quot;Syria&quot;, &quot;region&quot;: &quot;Middle East&quot;, &quot;event_type&quot;: &quot;Violence against civilians&quot;, &quot;actor1&quot;: &quot;Islamic State (Syria)&quot;}}, {&quot;geometry&quot;: {&quot;type&quot;: &quot;Point&quot;, &quot;coordinates&quot;: [36.2625, 35.0659]}, &quot;type&quot;: &quot;Feature&quot;, &quot;properties&quot;: {&quot;pd_count&quot;: 2, &quot;country&quot;: &quot;Syria&quot;, &quot;region&quot;: &quot;Middle East&quot;, &quot;event_type&quot;: &quot;Battle-Government regains territory&quot;, &quot;actor1&quot;: &quot;Military Forces of Syria (2000-)&quot;}}, {&quot;geometry&quot;: {&quot;type&quot;: &quot;Point&quot;, &quot;coordinates&quot;: [36.326, 35.0848]}, &quot;type&quot;: &quot;Feature&quot;, &quot;properties&quot;: {&quot;pd_count&quot;: 1, &quot;country&quot;: &quot;Syria&quot;, &quot;region&quot;: &quot;Middle East&quot;, &quot;event_type&quot;: &quot;Remote violence&quot;, &quot;actor1&quot;: &quot;Military Forces of Syria (2000-) Syrian Arab Air Force&quot;}}, {&quot;geometry&quot;: {&quot;type&quot;: &quot;Point&quot;, &quot;coordinates&quot;: [43.7935, 35.199]}, &quot;type&quot;: &quot;Feature&quot;, &quot;properties&quot;: {&quot;pd_count&quot;: 3, &quot;country&quot;: &quot;Iraq&quot;, &quot;region&quot;: &quot;Middle East&quot;, &quot;event_type&quot;: &quot;Battle-No change of territory&quot;, &quot;actor1&quot;: &quot;Islamic State (Iraq)&quot;}}, {&quot;geometry&quot;: {&quot;type&quot;: &quot;Point&quot;, &quot;coordinates&quot;: [68.3789, 35.2793]}, &quot;type&quot;: &quot;Feature&quot;, &quot;properties&quot;: {&quot;pd_count&quot;: 3, &quot;country&quot;: &quot;Afghanistan&quot;, &quot;region&quot;: &quot;Southern Asia&quot;, &quot;event_type&quot;: &quot;Battle-Government regains territory&quot;, &quot;actor1&quot;: &quot;Military Forces of Afghanistan (2004-)&quot;}}, {&quot;geometry&quot;: {&quot;type&quot;: &quot;Point&quot;, &quot;coordinates&quot;: [36.6633, 35.2908]}, &quot;type&quot;: &quot;Feature&quot;, &quot;properties&quot;: {&quot;pd_count&quot;: 1, &quot;country&quot;: &quot;Syria&quot;, &quot;region&quot;: &quot;Middle East&quot;, &quot;event_type&quot;: &quot;Strategic development&quot;, &quot;actor1&quot;: &quot;Military Forces of Syria (2000-)&quot;}}, {&quot;geometry&quot;: {&quot;type&quot;: &quot;Point&quot;, &quot;coordinates&quot;: [36.3938, 35.362]}, &quot;type&quot;: &quot;Feature&quot;, &quot;properties&quot;: {&quot;pd_count&quot;: 23, &quot;country&quot;: &quot;Syria&quot;, &quot;region&quot;: &quot;Middle East&quot;, &quot;event_type&quot;: &quot;Remote violence&quot;, &quot;actor1&quot;: &quot;Opposition Rebels (Syria)&quot;}}, {&quot;geometry&quot;: {&quot;type&quot;: &quot;Point&quot;, &quot;coordinates&quot;: [40.1208, 35.3838]}, &quot;type&quot;: &quot;Feature&quot;, &quot;properties&quot;: {&quot;pd_count&quot;: 1, &quot;country&quot;: &quot;Syria&quot;, &quot;region&quot;: &quot;Middle East&quot;, &quot;event_type&quot;: &quot;Battle-No change of territory&quot;, &quot;actor1&quot;: &quot;Military Forces of Syria (2000-)&quot;}}, {&quot;geometry&quot;: {&quot;type&quot;: &quot;Point&quot;, &quot;coordinates&quot;: [75.7391, 35.4237]}, &quot;type&quot;: &quot;Feature&quot;, &quot;properties&quot;: {&quot;pd_count&quot;: 2, &quot;country&quot;: &quot;Pakistan&quot;, &quot;region&quot;: &quot;Southern Asia&quot;, &quot;event_type&quot;: &quot;Riots/Protests&quot;, &quot;actor1&quot;: &quot;Protesters (Pakistan)&quot;}}, {&quot;geometry&quot;: {&quot;type&quot;: &quot;Point&quot;, &quot;coordinates&quot;: [37.0516, 35.9908]}, &quot;type&quot;: &quot;Feature&quot;, &quot;properties&quot;: {&quot;pd_count&quot;: 2, &quot;country&quot;: &quot;Syria&quot;, &quot;region&quot;: &quot;Middle East&quot;, &quot;event_type&quot;: &quot;Remote violence&quot;, &quot;actor1&quot;: &quot;Islamist Militia (Syria)&quot;}}, {&quot;geometry&quot;: {&quot;type&quot;: &quot;Point&quot;, &quot;coordinates&quot;: [39.8081, 36.0719]}, &quot;type&quot;: &quot;Feature&quot;, &quot;properties&quot;: {&quot;pd_count&quot;: 1, &quot;country&quot;: &quot;Syria&quot;, &quot;region&quot;: &quot;Middle East&quot;, &quot;event_type&quot;: &quot;Battle-Non-state actor overtakes territory&quot;, &quot;actor1&quot;: &quot;QSD: Syrian Democratic Forces&quot;}}, {&quot;geometry&quot;: {&quot;type&quot;: &quot;Point&quot;, &quot;coordinates&quot;: [36.7136, 36.0898]}, &quot;type&quot;: &quot;Feature&quot;, &quot;properties&quot;: {&quot;pd_count&quot;: 1, &quot;country&quot;: &quot;Syria&quot;, &quot;region&quot;: &quot;Middle East&quot;, &quot;event_type&quot;: &quot;Violence against civilians&quot;, &quot;actor1&quot;: &quot;Unidentified Armed Group (Syria)&quot;}}, {&quot;geometry&quot;: {&quot;type&quot;: &quot;Point&quot;, &quot;coordinates&quot;: [49.1915, 36.209]}, &quot;type&quot;: &quot;Feature&quot;, &quot;properties&quot;: {&quot;pd_count&quot;: 2, &quot;country&quot;: &quot;Iran&quot;, &quot;region&quot;: &quot;Middle East&quot;, &quot;event_type&quot;: &quot;Riots/Protests&quot;, &quot;actor1&quot;: &quot;Protesters (Iran)&quot;}}, {&quot;geometry&quot;: {&quot;type&quot;: &quot;Point&quot;, &quot;coordinates&quot;: [36.7628, 36.2337]}, &quot;type&quot;: &quot;Feature&quot;, &quot;properties&quot;: {&quot;pd_count&quot;: 1, &quot;country&quot;: &quot;Syria&quot;, &quot;region&quot;: &quot;Middle East&quot;, &quot;event_type&quot;: &quot;Remote violence&quot;, &quot;actor1&quot;: &quot;Unidentified Armed Group (Syria)&quot;}}, {&quot;geometry&quot;: {&quot;type&quot;: &quot;Point&quot;, &quot;coordinates&quot;: [37.0192, 36.2645]}, &quot;type&quot;: &quot;Feature&quot;, &quot;properties&quot;: {&quot;pd_count&quot;: 1, &quot;country&quot;: &quot;Syria&quot;, &quot;region&quot;: &quot;Middle East&quot;, &quot;event_type&quot;: &quot;Remote violence&quot;, &quot;actor1&quot;: &quot;Unidentified Armed Group (Syria)&quot;}}, {&quot;geometry&quot;: {&quot;type&quot;: &quot;Point&quot;, &quot;coordinates&quot;: [36.6896, 36.3925]}, &quot;type&quot;: &quot;Feature&quot;, &quot;properties&quot;: {&quot;pd_count&quot;: 2, &quot;country&quot;: &quot;Syria&quot;, &quot;region&quot;: &quot;Middle East&quot;, &quot;event_type&quot;: &quot;Riots/Protests&quot;, &quot;actor1&quot;: &quot;Protesters (Syria)&quot;}}, {&quot;geometry&quot;: {&quot;type&quot;: &quot;Point&quot;, &quot;coordinates&quot;: [41.2262, 37.0447]}, &quot;type&quot;: &quot;Feature&quot;, &quot;properties&quot;: {&quot;pd_count&quot;: 11, &quot;country&quot;: &quot;Syria&quot;, &quot;region&quot;: &quot;Middle East&quot;, &quot;event_type&quot;: &quot;Remote violence&quot;, &quot;actor1&quot;: &quot;Unidentified Armed Group (Syria)&quot;}}, {&quot;geometry&quot;: {&quot;type&quot;: &quot;Point&quot;, &quot;coordinates&quot;: [41.8894, 37.3348]}, &quot;type&quot;: &quot;Feature&quot;, &quot;properties&quot;: {&quot;pd_count&quot;: 1, &quot;country&quot;: &quot;Turkey&quot;, &quot;region&quot;: &quot;Middle East&quot;, &quot;event_type&quot;: &quot;Violence against civilians&quot;, &quot;actor1&quot;: &quot;PKK: Kurdistan Workers Party&quot;}}, {&quot;geometry&quot;: {&quot;type&quot;: &quot;Point&quot;, &quot;coordinates&quot;: [32.8026, 39.9692]}, &quot;type&quot;: &quot;Feature&quot;, &quot;properties&quot;: {&quot;pd_count&quot;: 1, &quot;country&quot;: &quot;Turkey&quot;, &quot;region&quot;: &quot;Middle East&quot;, &quot;event_type&quot;: &quot;Battle-No change of territory&quot;, &quot;actor1&quot;: &quot;Unidentified Armed Group (Turkey)&quot;}}]};\n",
       "        geomtype = divineGeometryType(mapdata);\n",
       "        \n",
       "            var ds = {\n",
       "                &quot;type&quot;:&quot;geojson&quot;,\n",
       "                &quot;data&quot;:mapdata\n",
       "            };\n",
       "            var clusterme = false;\n",
       "            if (geomtype.substr(-5,5) == &quot;Point&quot;) {\n",
       "                \n",
       "            }\n",
       "            map.addSource(&quot;pxdatasource&quot;, ds);\n",
       "\n",
       "            var maplayertype = &quot;circle&quot;;\n",
       "            if (geomtype.substr(-7,7) == &quot;Polygon&quot;) \n",
       "                maplayertype = &quot;fill&quot;;\n",
       "            else if (geomtype.substr(-10,10) == &quot;LineString&quot;)\n",
       "                maplayertype = &quot;line&quot;;\n",
       "            map.addLayer({\n",
       "                &quot;id&quot;:&quot;pxlayer&quot;,\n",
       "                &quot;type&quot;:maplayertype, \n",
       "                &quot;source&quot;: &quot;pxdatasource&quot;, \n",
       "                &quot;paint&quot;: {&quot;circle-color&quot;: {&quot;property&quot;: &quot;pd_count&quot;, &quot;stops&quot;: [[1.0, &quot;#ff0000&quot;], [1.0, &quot;#fff600&quot;], [1.0, &quot;#12ff00&quot;], [2.0, &quot;#00ffe4&quot;], [127.0, &quot;#0024ff&quot;]]}, &quot;circle-opacity&quot;: 1.0, &quot;circle-radius&quot;: 12}\n",
       "            });\n",
       "            \n",
       "            if (clusterme &amp;&amp; geomtype.substr(-5,5) == &quot;Point&quot;) {\n",
       "                map.addLayer({\n",
       "                    &quot;id&quot;: &quot;cluster-count-labels&quot;, \n",
       "                    &quot;type&quot;: &quot;symbol&quot;, \n",
       "                    &quot;source&quot;: &quot;pxdatasource&quot;, \n",
       "                    &quot;paint&quot;: {\n",
       "                        &quot;text-color&quot;: &quot;#FFF&quot;\n",
       "                    },\n",
       "                    &quot;layout&quot;: {\n",
       "                        &quot;text-field&quot;: &quot;{point_count}&quot;, \n",
       "                        &quot;text-font&quot;: [\n",
       "                            &quot;DIN Offc Pro Medium&quot;, \n",
       "                            &quot;Arial Unicode MS Bold&quot;\n",
       "                        ],\n",
       "                        &quot;text-size&quot;: 12\n",
       "                    }\n",
       "                });\n",
       "            }\n",
       "        \n",
       "        \n",
       "\n",
       "        comment = &quot;Add user layers&quot;;\n",
       "        var layers = [];\n",
       "        \n",
       "        layers.sort(function(a,b) {\n",
       "            return a[1] - b[1];\n",
       "        });\n",
       "        for (layersi=layers.length-1; layersi>=0; layersi--) {\n",
       "            map.addLayer(layers[layersi][0]);\n",
       "            comment = &quot;User layer legend&quot;;\n",
       "            \n",
       "        }\n",
       "        \n",
       "        map.fitBounds([[32.8026, 6.2594], [124.5, 39.9692]]);\n",
       "        \n",
       "        \n",
       "    });\n",
       "</script>\n",
       "</body>\n",
       "</html>\" onload=\"iframeLoaded(this)\"></iframe>\n",
       "<script>\n",
       "  var iframe = document.getElementById('mapframe9b10820c');\n",
       "  iframe.setAttribute('srcdoc', atob('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'));\n",
       "</script>\n",
       "\n",
       "        </div>"
      ],
      "text/plain": [
       "<IPython.core.display.HTML object>"
      ]
     },
     "metadata": {},
     "output_type": "display_data"
    }
   ],
   "source": [
    "display(prediction)"
   ]
  },
  {
   "cell_type": "code",
   "execution_count": null,
   "metadata": {},
   "outputs": [],
   "source": []
  }
 ],
 "metadata": {
  "kernelspec": {
   "display_name": "Python 2",
   "language": "python",
   "name": "python2"
  },
  "language_info": {
   "codemirror_mode": {
    "name": "ipython",
    "version": 2
   },
   "file_extension": ".py",
   "mimetype": "text/x-python",
   "name": "python",
   "nbconvert_exporter": "python",
   "pygments_lexer": "ipython2",
   "version": "2.7.16"
  }
 },
 "nbformat": 4,
 "nbformat_minor": 2
}
